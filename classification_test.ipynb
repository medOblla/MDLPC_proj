{
 "cells": [
  {
   "cell_type": "code",
   "execution_count": 138,
   "metadata": {},
   "outputs": [],
   "source": [
    "import pandas as pd\n",
    "import numpy as np\n",
    "import matplotlib.pyplot as plt\n"
   ]
  },
  {
   "cell_type": "code",
   "execution_count": 139,
   "metadata": {},
   "outputs": [
    {
     "name": "stdout",
     "output_type": "stream",
     "text": [
      "Y\n",
      "Displ       12782\n",
      "No_Displ    13000\n",
      "dtype: int64\n"
     ]
    },
    {
     "data": {
      "text/html": [
       "<div>\n",
       "<style scoped>\n",
       "    .dataframe tbody tr th:only-of-type {\n",
       "        vertical-align: middle;\n",
       "    }\n",
       "\n",
       "    .dataframe tbody tr th {\n",
       "        vertical-align: top;\n",
       "    }\n",
       "\n",
       "    .dataframe thead th {\n",
       "        text-align: right;\n",
       "    }\n",
       "</style>\n",
       "<table border=\"1\" class=\"dataframe\">\n",
       "  <thead>\n",
       "    <tr style=\"text-align: right;\">\n",
       "      <th></th>\n",
       "      <th>Y</th>\n",
       "      <th>cor_sales_in_vol</th>\n",
       "      <th>cor_sales_in_val</th>\n",
       "      <th>CA_mag</th>\n",
       "      <th>value</th>\n",
       "      <th>ENSEIGNE</th>\n",
       "      <th>VenteConv</th>\n",
       "      <th>Feature</th>\n",
       "    </tr>\n",
       "  </thead>\n",
       "  <tbody>\n",
       "    <tr>\n",
       "      <th>1</th>\n",
       "      <td>No_Displ</td>\n",
       "      <td>2</td>\n",
       "      <td>20.2</td>\n",
       "      <td>47400</td>\n",
       "      <td>36</td>\n",
       "      <td>CORA</td>\n",
       "      <td>72</td>\n",
       "      <td>No_Feat</td>\n",
       "    </tr>\n",
       "    <tr>\n",
       "      <th>2</th>\n",
       "      <td>No_Displ</td>\n",
       "      <td>2</td>\n",
       "      <td>11.9</td>\n",
       "      <td>62000</td>\n",
       "      <td>24</td>\n",
       "      <td>LECLERC</td>\n",
       "      <td>48</td>\n",
       "      <td>No_Feat</td>\n",
       "    </tr>\n",
       "    <tr>\n",
       "      <th>3</th>\n",
       "      <td>No_Displ</td>\n",
       "      <td>8</td>\n",
       "      <td>29.52</td>\n",
       "      <td>60661</td>\n",
       "      <td>60</td>\n",
       "      <td>AUCHAN</td>\n",
       "      <td>480</td>\n",
       "      <td>No_Feat</td>\n",
       "    </tr>\n",
       "    <tr>\n",
       "      <th>4</th>\n",
       "      <td>No_Displ</td>\n",
       "      <td>2</td>\n",
       "      <td>16.2</td>\n",
       "      <td>59677</td>\n",
       "      <td>19</td>\n",
       "      <td>CARREFOUR</td>\n",
       "      <td>38</td>\n",
       "      <td>No_Feat</td>\n",
       "    </tr>\n",
       "    <tr>\n",
       "      <th>5</th>\n",
       "      <td>No_Displ</td>\n",
       "      <td>5</td>\n",
       "      <td>62.1</td>\n",
       "      <td>142602</td>\n",
       "      <td>50</td>\n",
       "      <td>CORA</td>\n",
       "      <td>250</td>\n",
       "      <td>No_Feat</td>\n",
       "    </tr>\n",
       "  </tbody>\n",
       "</table>\n",
       "</div>"
      ],
      "text/plain": [
       "          Y cor_sales_in_vol cor_sales_in_val  CA_mag value   ENSEIGNE  \\\n",
       "1  No_Displ                2             20.2   47400    36       CORA   \n",
       "2  No_Displ                2             11.9   62000    24    LECLERC   \n",
       "3  No_Displ                8            29.52   60661    60     AUCHAN   \n",
       "4  No_Displ                2             16.2   59677    19  CARREFOUR   \n",
       "5  No_Displ                5             62.1  142602    50       CORA   \n",
       "\n",
       "  VenteConv  Feature  \n",
       "1        72  No_Feat  \n",
       "2        48  No_Feat  \n",
       "3       480  No_Feat  \n",
       "4        38  No_Feat  \n",
       "5       250  No_Feat  "
      ]
     },
     "execution_count": 139,
     "metadata": {},
     "output_type": "execute_result"
    }
   ],
   "source": [
    "df = pd.read_csv('./new_Base_CDM_balanced_V2.csv', sep=';')\n",
    "\n",
    "# rename the columns\n",
    "df.rename(columns={'X1': 'cor_sales_in_vol',\n",
    "          'X2': 'cor_sales_in_val', 'X3': 'CA_mag', 'X4': 'value', 'X5': 'ENSEIGNE',\n",
    "                   'X6': 'VenteConv', 'X7': 'Feature'}, inplace=True)\n",
    "# remove the first row\n",
    "df = df.iloc[1:]\n",
    "\n",
    "print(df.groupby('Y').size())\n",
    "df.head()\n"
   ]
  },
  {
   "cell_type": "code",
   "execution_count": 140,
   "metadata": {},
   "outputs": [],
   "source": [
    "# write a function that takes a list of features and parses their values into floats\n",
    "def parse_features(features):\n",
    "    for feature in features:\n",
    "        df[feature] = df[feature].str.replace(',', '.').astype(float)\n",
    "    return df"
   ]
  },
  {
   "cell_type": "code",
   "execution_count": 141,
   "metadata": {},
   "outputs": [],
   "source": [
    "numerical_features = [\"cor_sales_in_vol\", \"cor_sales_in_val\",\n",
    "                      \"CA_mag\", \"value\", \"VenteConv\"]\n",
    "categorical_features = [\"ENSEIGNE\", \"Feature\"]\n"
   ]
  },
  {
   "cell_type": "code",
   "execution_count": 142,
   "metadata": {},
   "outputs": [
    {
     "data": {
      "text/html": [
       "<div>\n",
       "<style scoped>\n",
       "    .dataframe tbody tr th:only-of-type {\n",
       "        vertical-align: middle;\n",
       "    }\n",
       "\n",
       "    .dataframe tbody tr th {\n",
       "        vertical-align: top;\n",
       "    }\n",
       "\n",
       "    .dataframe thead th {\n",
       "        text-align: right;\n",
       "    }\n",
       "</style>\n",
       "<table border=\"1\" class=\"dataframe\">\n",
       "  <thead>\n",
       "    <tr style=\"text-align: right;\">\n",
       "      <th></th>\n",
       "      <th>Y</th>\n",
       "      <th>cor_sales_in_vol</th>\n",
       "      <th>cor_sales_in_val</th>\n",
       "      <th>CA_mag</th>\n",
       "      <th>value</th>\n",
       "      <th>ENSEIGNE</th>\n",
       "      <th>VenteConv</th>\n",
       "      <th>Feature</th>\n",
       "    </tr>\n",
       "  </thead>\n",
       "  <tbody>\n",
       "    <tr>\n",
       "      <th>1</th>\n",
       "      <td>No_Displ</td>\n",
       "      <td>2.0</td>\n",
       "      <td>20.20</td>\n",
       "      <td>47400.0</td>\n",
       "      <td>36.0</td>\n",
       "      <td>CORA</td>\n",
       "      <td>72.0</td>\n",
       "      <td>No_Feat</td>\n",
       "    </tr>\n",
       "    <tr>\n",
       "      <th>2</th>\n",
       "      <td>No_Displ</td>\n",
       "      <td>2.0</td>\n",
       "      <td>11.90</td>\n",
       "      <td>62000.0</td>\n",
       "      <td>24.0</td>\n",
       "      <td>LECLERC</td>\n",
       "      <td>48.0</td>\n",
       "      <td>No_Feat</td>\n",
       "    </tr>\n",
       "    <tr>\n",
       "      <th>3</th>\n",
       "      <td>No_Displ</td>\n",
       "      <td>8.0</td>\n",
       "      <td>29.52</td>\n",
       "      <td>60661.0</td>\n",
       "      <td>60.0</td>\n",
       "      <td>AUCHAN</td>\n",
       "      <td>480.0</td>\n",
       "      <td>No_Feat</td>\n",
       "    </tr>\n",
       "    <tr>\n",
       "      <th>4</th>\n",
       "      <td>No_Displ</td>\n",
       "      <td>2.0</td>\n",
       "      <td>16.20</td>\n",
       "      <td>59677.0</td>\n",
       "      <td>19.0</td>\n",
       "      <td>CARREFOUR</td>\n",
       "      <td>38.0</td>\n",
       "      <td>No_Feat</td>\n",
       "    </tr>\n",
       "    <tr>\n",
       "      <th>5</th>\n",
       "      <td>No_Displ</td>\n",
       "      <td>5.0</td>\n",
       "      <td>62.10</td>\n",
       "      <td>142602.0</td>\n",
       "      <td>50.0</td>\n",
       "      <td>CORA</td>\n",
       "      <td>250.0</td>\n",
       "      <td>No_Feat</td>\n",
       "    </tr>\n",
       "  </tbody>\n",
       "</table>\n",
       "</div>"
      ],
      "text/plain": [
       "          Y  cor_sales_in_vol  cor_sales_in_val    CA_mag  value   ENSEIGNE  \\\n",
       "1  No_Displ               2.0             20.20   47400.0   36.0       CORA   \n",
       "2  No_Displ               2.0             11.90   62000.0   24.0    LECLERC   \n",
       "3  No_Displ               8.0             29.52   60661.0   60.0     AUCHAN   \n",
       "4  No_Displ               2.0             16.20   59677.0   19.0  CARREFOUR   \n",
       "5  No_Displ               5.0             62.10  142602.0   50.0       CORA   \n",
       "\n",
       "   VenteConv  Feature  \n",
       "1       72.0  No_Feat  \n",
       "2       48.0  No_Feat  \n",
       "3      480.0  No_Feat  \n",
       "4       38.0  No_Feat  \n",
       "5      250.0  No_Feat  "
      ]
     },
     "execution_count": 142,
     "metadata": {},
     "output_type": "execute_result"
    }
   ],
   "source": [
    "nums = parse_features(numerical_features)\n",
    "df = nums\n",
    "df.head()"
   ]
  },
  {
   "cell_type": "code",
   "execution_count": 143,
   "metadata": {},
   "outputs": [
    {
     "name": "stdout",
     "output_type": "stream",
     "text": [
      "Your selected dataframe has 8 columns.\n",
      "There are 0 columns that have missing values.\n"
     ]
    },
    {
     "data": {
      "text/html": [
       "<div>\n",
       "<style scoped>\n",
       "    .dataframe tbody tr th:only-of-type {\n",
       "        vertical-align: middle;\n",
       "    }\n",
       "\n",
       "    .dataframe tbody tr th {\n",
       "        vertical-align: top;\n",
       "    }\n",
       "\n",
       "    .dataframe thead th {\n",
       "        text-align: right;\n",
       "    }\n",
       "</style>\n",
       "<table border=\"1\" class=\"dataframe\">\n",
       "  <thead>\n",
       "    <tr style=\"text-align: right;\">\n",
       "      <th></th>\n",
       "      <th>Missing Values</th>\n",
       "      <th>% of Total Values</th>\n",
       "    </tr>\n",
       "  </thead>\n",
       "  <tbody>\n",
       "  </tbody>\n",
       "</table>\n",
       "</div>"
      ],
      "text/plain": [
       "Empty DataFrame\n",
       "Columns: [Missing Values, % of Total Values]\n",
       "Index: []"
      ]
     },
     "execution_count": 143,
     "metadata": {},
     "output_type": "execute_result"
    }
   ],
   "source": [
    "# write a function to look for missing values\n",
    "def missing_values_table(df):\n",
    "    # Total missing values\n",
    "    mis_val = df.isnull().sum()\n",
    "\n",
    "    # Percentage of missing values\n",
    "    mis_val_percent = 100 * df.isnull().sum() / len(df)\n",
    "\n",
    "    # Make a table with the results\n",
    "    mis_val_table = pd.concat([mis_val, mis_val_percent], axis=1)\n",
    "\n",
    "    # Rename the columns\n",
    "    mis_val_table_ren_columns = mis_val_table.rename(\n",
    "        columns={0: 'Missing Values', 1: '% of Total Values'})\n",
    "\n",
    "    # Sort the table by percentage of missing descending\n",
    "    mis_val_table_ren_columns = mis_val_table_ren_columns[\n",
    "        mis_val_table_ren_columns.iloc[:, 1] != 0].sort_values(\n",
    "        '% of Total Values', ascending=False).round(1)\n",
    "\n",
    "    # Print some summary information\n",
    "    print(\"Your selected dataframe has \" + str(df.shape[1]) + \" columns.\\n\"\n",
    "                                                              \"There are \" + str(mis_val_table_ren_columns.shape[0]) +\n",
    "          \" columns that have missing values.\")\n",
    "\n",
    "    # Return the dataframe with missing information\n",
    "    return mis_val_table_ren_columns\n",
    "\n",
    "\n",
    "missing_values_table(df)\n"
   ]
  },
  {
   "cell_type": "code",
   "execution_count": 144,
   "metadata": {},
   "outputs": [],
   "source": [
    "# write function to plot side by side scatter plots of the features\n",
    "def plot_scatter(df, features):\n",
    "    for feature in features:\n",
    "        df.plot.scatter(feature, 'Y', figsize=(5, 5))\n",
    "        plt.show()"
   ]
  },
  {
   "cell_type": "code",
   "execution_count": 145,
   "metadata": {},
   "outputs": [
    {
     "data": {
      "image/png": "[encoded data removed]",
      "text/plain": [
       "<Figure size 360x360 with 1 Axes>"
      ]
     },
     "metadata": {
      "needs_background": "light"
     },
     "output_type": "display_data"
    },
    {
     "data": {
      "image/png": "[encoded data removed]",
      "text/plain": [
       "<Figure size 360x360 with 1 Axes>"
      ]
     },
     "metadata": {
      "needs_background": "light"
     },
     "output_type": "display_data"
    },
    {
     "data": {
      "image/png": "[encoded data removed]",
      "text/plain": [
       "<Figure size 360x360 with 1 Axes>"
      ]
     },
     "metadata": {
      "needs_background": "light"
     },
     "output_type": "display_data"
    },
    {
     "data": {
      "image/png": "[encoded data removed]",
      "text/plain": [
       "<Figure size 360x360 with 1 Axes>"
      ]
     },
     "metadata": {
      "needs_background": "light"
     },
     "output_type": "display_data"
    },
    {
     "data": {
      "image/png": "[encoded data removed]",
      "text/plain": [
       "<Figure size 360x360 with 1 Axes>"
      ]
     },
     "metadata": {
      "needs_background": "light"
     },
     "output_type": "display_data"
    }
   ],
   "source": [
    "plot_scatter(df, numerical_features)\n"
   ]
  },
  {
   "cell_type": "code",
   "execution_count": 146,
   "metadata": {},
   "outputs": [],
   "source": [
    "# write a function that deletes data points outside 3 standart deviations of the mean\n",
    "def delete_outliers(df, features):\n",
    "    for feature in features:\n",
    "        mean = df[feature].mean()\n",
    "        std = df[feature].std()\n",
    "        df = df[(df[feature] > mean - 3 * std) & (df[feature] < mean + 3 * std)]\n",
    "    return df\n",
    "\n",
    "\n",
    "df = delete_outliers(df, numerical_features)\n"
   ]
  },
  {
   "cell_type": "code",
   "execution_count": null,
   "metadata": {},
   "outputs": [],
   "source": []
  },
  {
   "cell_type": "code",
   "execution_count": 147,
   "metadata": {},
   "outputs": [
    {
     "data": {
      "image/png": "[encoded data removed]",
      "text/plain": [
       "<Figure size 360x360 with 1 Axes>"
      ]
     },
     "metadata": {
      "needs_background": "light"
     },
     "output_type": "display_data"
    },
    {
     "data": {
      "image/png": "[encoded data removed]",
      "text/plain": [
       "<Figure size 360x360 with 1 Axes>"
      ]
     },
     "metadata": {
      "needs_background": "light"
     },
     "output_type": "display_data"
    },
    {
     "data": {
      "image/png": "[encoded data removed]",
      "text/plain": [
       "<Figure size 360x360 with 1 Axes>"
      ]
     },
     "metadata": {
      "needs_background": "light"
     },
     "output_type": "display_data"
    },
    {
     "data": {
      "image/png": "[encoded data removed]",
      "text/plain": [
       "<Figure size 360x360 with 1 Axes>"
      ]
     },
     "metadata": {
      "needs_background": "light"
     },
     "output_type": "display_data"
    },
    {
     "data": {
      "image/png": "[encoded data removed]",
      "text/plain": [
       "<Figure size 360x360 with 1 Axes>"
      ]
     },
     "metadata": {
      "needs_background": "light"
     },
     "output_type": "display_data"
    }
   ],
   "source": [
    "plot_scatter(df, numerical_features)\n"
   ]
  },
  {
   "cell_type": "code",
   "execution_count": 148,
   "metadata": {},
   "outputs": [],
   "source": [
    "# write a function that Scale the continuous variables so that they are on the same scale\n",
    "def scale_features(df, features):\n",
    "    for feature in features:\n",
    "        df[feature] = (df[feature] - df[feature].mean()) / df[feature].std()\n",
    "    return df\n",
    "\n",
    "\n",
    "# scaling the values\n",
    "df = scale_features(df, numerical_features)\n"
   ]
  },
  {
   "cell_type": "code",
   "execution_count": 149,
   "metadata": {},
   "outputs": [
    {
     "data": {
      "text/html": [
       "<div>\n",
       "<style scoped>\n",
       "    .dataframe tbody tr th:only-of-type {\n",
       "        vertical-align: middle;\n",
       "    }\n",
       "\n",
       "    .dataframe tbody tr th {\n",
       "        vertical-align: top;\n",
       "    }\n",
       "\n",
       "    .dataframe thead th {\n",
       "        text-align: right;\n",
       "    }\n",
       "</style>\n",
       "<table border=\"1\" class=\"dataframe\">\n",
       "  <thead>\n",
       "    <tr style=\"text-align: right;\">\n",
       "      <th></th>\n",
       "      <th>Y</th>\n",
       "      <th>cor_sales_in_vol</th>\n",
       "      <th>cor_sales_in_val</th>\n",
       "      <th>CA_mag</th>\n",
       "      <th>value</th>\n",
       "      <th>ENSEIGNE</th>\n",
       "      <th>VenteConv</th>\n",
       "      <th>Feature</th>\n",
       "    </tr>\n",
       "  </thead>\n",
       "  <tbody>\n",
       "    <tr>\n",
       "      <th>1</th>\n",
       "      <td>0</td>\n",
       "      <td>-0.523155</td>\n",
       "      <td>-0.458692</td>\n",
       "      <td>-0.201180</td>\n",
       "      <td>0.146677</td>\n",
       "      <td>CORA</td>\n",
       "      <td>-0.507839</td>\n",
       "      <td>No_Feat</td>\n",
       "    </tr>\n",
       "    <tr>\n",
       "      <th>2</th>\n",
       "      <td>0</td>\n",
       "      <td>-0.523155</td>\n",
       "      <td>-0.559977</td>\n",
       "      <td>0.125993</td>\n",
       "      <td>-0.648938</td>\n",
       "      <td>LECLERC</td>\n",
       "      <td>-0.583034</td>\n",
       "      <td>No_Feat</td>\n",
       "    </tr>\n",
       "    <tr>\n",
       "      <th>3</th>\n",
       "      <td>0</td>\n",
       "      <td>0.105097</td>\n",
       "      <td>-0.344961</td>\n",
       "      <td>0.095987</td>\n",
       "      <td>1.737906</td>\n",
       "      <td>AUCHAN</td>\n",
       "      <td>0.770479</td>\n",
       "      <td>No_Feat</td>\n",
       "    </tr>\n",
       "    <tr>\n",
       "      <th>4</th>\n",
       "      <td>0</td>\n",
       "      <td>-0.523155</td>\n",
       "      <td>-0.507504</td>\n",
       "      <td>0.073937</td>\n",
       "      <td>-0.980444</td>\n",
       "      <td>CARREFOUR</td>\n",
       "      <td>-0.614366</td>\n",
       "      <td>No_Feat</td>\n",
       "    </tr>\n",
       "    <tr>\n",
       "      <th>5</th>\n",
       "      <td>0</td>\n",
       "      <td>-0.209029</td>\n",
       "      <td>0.052610</td>\n",
       "      <td>1.932210</td>\n",
       "      <td>1.074894</td>\n",
       "      <td>CORA</td>\n",
       "      <td>0.049859</td>\n",
       "      <td>No_Feat</td>\n",
       "    </tr>\n",
       "    <tr>\n",
       "      <th>...</th>\n",
       "      <td>...</td>\n",
       "      <td>...</td>\n",
       "      <td>...</td>\n",
       "      <td>...</td>\n",
       "      <td>...</td>\n",
       "      <td>...</td>\n",
       "      <td>...</td>\n",
       "      <td>...</td>\n",
       "    </tr>\n",
       "    <tr>\n",
       "      <th>25778</th>\n",
       "      <td>1</td>\n",
       "      <td>-0.627864</td>\n",
       "      <td>-0.574620</td>\n",
       "      <td>-1.172994</td>\n",
       "      <td>0.411882</td>\n",
       "      <td>CARREFOUR MARKET</td>\n",
       "      <td>-0.608100</td>\n",
       "      <td>No_Feat</td>\n",
       "    </tr>\n",
       "    <tr>\n",
       "      <th>25779</th>\n",
       "      <td>1</td>\n",
       "      <td>-0.209029</td>\n",
       "      <td>-0.284801</td>\n",
       "      <td>-1.172994</td>\n",
       "      <td>0.080376</td>\n",
       "      <td>CARREFOUR MARKET</td>\n",
       "      <td>-0.185126</td>\n",
       "      <td>No_Feat</td>\n",
       "    </tr>\n",
       "    <tr>\n",
       "      <th>25780</th>\n",
       "      <td>1</td>\n",
       "      <td>0.523932</td>\n",
       "      <td>0.292031</td>\n",
       "      <td>-1.172994</td>\n",
       "      <td>0.080376</td>\n",
       "      <td>CARREFOUR MARKET</td>\n",
       "      <td>0.582491</td>\n",
       "      <td>No_Feat</td>\n",
       "    </tr>\n",
       "    <tr>\n",
       "      <th>25781</th>\n",
       "      <td>1</td>\n",
       "      <td>-0.209029</td>\n",
       "      <td>-0.342154</td>\n",
       "      <td>-1.172994</td>\n",
       "      <td>-0.648938</td>\n",
       "      <td>CARREFOUR MARKET</td>\n",
       "      <td>-0.357449</td>\n",
       "      <td>No_Feat</td>\n",
       "    </tr>\n",
       "    <tr>\n",
       "      <th>25782</th>\n",
       "      <td>1</td>\n",
       "      <td>-0.209029</td>\n",
       "      <td>-0.067711</td>\n",
       "      <td>-1.172994</td>\n",
       "      <td>0.411882</td>\n",
       "      <td>CARREFOUR MARKET</td>\n",
       "      <td>-0.106798</td>\n",
       "      <td>No_Feat</td>\n",
       "    </tr>\n",
       "  </tbody>\n",
       "</table>\n",
       "<p>23092 rows × 8 columns</p>\n",
       "</div>"
      ],
      "text/plain": [
       "       Y  cor_sales_in_vol  cor_sales_in_val    CA_mag     value  \\\n",
       "1      0         -0.523155         -0.458692 -0.201180  0.146677   \n",
       "2      0         -0.523155         -0.559977  0.125993 -0.648938   \n",
       "3      0          0.105097         -0.344961  0.095987  1.737906   \n",
       "4      0         -0.523155         -0.507504  0.073937 -0.980444   \n",
       "5      0         -0.209029          0.052610  1.932210  1.074894   \n",
       "...   ..               ...               ...       ...       ...   \n",
       "25778  1         -0.627864         -0.574620 -1.172994  0.411882   \n",
       "25779  1         -0.209029         -0.284801 -1.172994  0.080376   \n",
       "25780  1          0.523932          0.292031 -1.172994  0.080376   \n",
       "25781  1         -0.209029         -0.342154 -1.172994 -0.648938   \n",
       "25782  1         -0.209029         -0.067711 -1.172994  0.411882   \n",
       "\n",
       "               ENSEIGNE  VenteConv  Feature  \n",
       "1                  CORA  -0.507839  No_Feat  \n",
       "2               LECLERC  -0.583034  No_Feat  \n",
       "3                AUCHAN   0.770479  No_Feat  \n",
       "4             CARREFOUR  -0.614366  No_Feat  \n",
       "5                  CORA   0.049859  No_Feat  \n",
       "...                 ...        ...      ...  \n",
       "25778  CARREFOUR MARKET  -0.608100  No_Feat  \n",
       "25779  CARREFOUR MARKET  -0.185126  No_Feat  \n",
       "25780  CARREFOUR MARKET   0.582491  No_Feat  \n",
       "25781  CARREFOUR MARKET  -0.357449  No_Feat  \n",
       "25782  CARREFOUR MARKET  -0.106798  No_Feat  \n",
       "\n",
       "[23092 rows x 8 columns]"
      ]
     },
     "execution_count": 149,
     "metadata": {},
     "output_type": "execute_result"
    }
   ],
   "source": [
    "# write a function to label encode the target variable (Y) if its value == 'No_Displ' then 0 else 1\n",
    "def label_encode(df):\n",
    "    df['Y'] = np.where(df['Y'] == 'No_Displ', 0, 1)\n",
    "    return df\n",
    "\n",
    "\n",
    "label_encode(df)"
   ]
  },
  {
   "cell_type": "code",
   "execution_count": 150,
   "metadata": {},
   "outputs": [
    {
     "data": {
      "text/html": [
       "<div>\n",
       "<style scoped>\n",
       "    .dataframe tbody tr th:only-of-type {\n",
       "        vertical-align: middle;\n",
       "    }\n",
       "\n",
       "    .dataframe tbody tr th {\n",
       "        vertical-align: top;\n",
       "    }\n",
       "\n",
       "    .dataframe thead th {\n",
       "        text-align: right;\n",
       "    }\n",
       "</style>\n",
       "<table border=\"1\" class=\"dataframe\">\n",
       "  <thead>\n",
       "    <tr style=\"text-align: right;\">\n",
       "      <th></th>\n",
       "      <th>Y</th>\n",
       "      <th>cor_sales_in_vol</th>\n",
       "      <th>cor_sales_in_val</th>\n",
       "      <th>CA_mag</th>\n",
       "      <th>value</th>\n",
       "      <th>ENSEIGNE</th>\n",
       "      <th>VenteConv</th>\n",
       "      <th>Feature</th>\n",
       "    </tr>\n",
       "  </thead>\n",
       "  <tbody>\n",
       "    <tr>\n",
       "      <th>1</th>\n",
       "      <td>0</td>\n",
       "      <td>-0.523155</td>\n",
       "      <td>-0.458692</td>\n",
       "      <td>-0.201180</td>\n",
       "      <td>0.146677</td>\n",
       "      <td>0.338037</td>\n",
       "      <td>-0.507839</td>\n",
       "      <td>No_Feat</td>\n",
       "    </tr>\n",
       "    <tr>\n",
       "      <th>2</th>\n",
       "      <td>0</td>\n",
       "      <td>-0.523155</td>\n",
       "      <td>-0.559977</td>\n",
       "      <td>0.125993</td>\n",
       "      <td>-0.648938</td>\n",
       "      <td>0.405287</td>\n",
       "      <td>-0.583034</td>\n",
       "      <td>No_Feat</td>\n",
       "    </tr>\n",
       "    <tr>\n",
       "      <th>3</th>\n",
       "      <td>0</td>\n",
       "      <td>0.105097</td>\n",
       "      <td>-0.344961</td>\n",
       "      <td>0.095987</td>\n",
       "      <td>1.737906</td>\n",
       "      <td>0.321567</td>\n",
       "      <td>0.770479</td>\n",
       "      <td>No_Feat</td>\n",
       "    </tr>\n",
       "    <tr>\n",
       "      <th>4</th>\n",
       "      <td>0</td>\n",
       "      <td>-0.523155</td>\n",
       "      <td>-0.507504</td>\n",
       "      <td>0.073937</td>\n",
       "      <td>-0.980444</td>\n",
       "      <td>0.429692</td>\n",
       "      <td>-0.614366</td>\n",
       "      <td>No_Feat</td>\n",
       "    </tr>\n",
       "    <tr>\n",
       "      <th>5</th>\n",
       "      <td>0</td>\n",
       "      <td>-0.209029</td>\n",
       "      <td>0.052610</td>\n",
       "      <td>1.932210</td>\n",
       "      <td>1.074894</td>\n",
       "      <td>0.338037</td>\n",
       "      <td>0.049859</td>\n",
       "      <td>No_Feat</td>\n",
       "    </tr>\n",
       "  </tbody>\n",
       "</table>\n",
       "</div>"
      ],
      "text/plain": [
       "   Y  cor_sales_in_vol  cor_sales_in_val    CA_mag     value  ENSEIGNE  \\\n",
       "1  0         -0.523155         -0.458692 -0.201180  0.146677  0.338037   \n",
       "2  0         -0.523155         -0.559977  0.125993 -0.648938  0.405287   \n",
       "3  0          0.105097         -0.344961  0.095987  1.737906  0.321567   \n",
       "4  0         -0.523155         -0.507504  0.073937 -0.980444  0.429692   \n",
       "5  0         -0.209029          0.052610  1.932210  1.074894  0.338037   \n",
       "\n",
       "   VenteConv  Feature  \n",
       "1  -0.507839  No_Feat  \n",
       "2  -0.583034  No_Feat  \n",
       "3   0.770479  No_Feat  \n",
       "4  -0.614366  No_Feat  \n",
       "5   0.049859  No_Feat  "
      ]
     },
     "execution_count": 150,
     "metadata": {},
     "output_type": "execute_result"
    }
   ],
   "source": [
    "mean_target_by_enseigne = df.groupby('ENSEIGNE')['Y'].mean()\n",
    "df['ENSEIGNE'] = df['ENSEIGNE'].map(mean_target_by_enseigne)\n",
    "df.head()\n"
   ]
  },
  {
   "cell_type": "code",
   "execution_count": 151,
   "metadata": {},
   "outputs": [
    {
     "data": {
      "text/html": [
       "<div>\n",
       "<style scoped>\n",
       "    .dataframe tbody tr th:only-of-type {\n",
       "        vertical-align: middle;\n",
       "    }\n",
       "\n",
       "    .dataframe tbody tr th {\n",
       "        vertical-align: top;\n",
       "    }\n",
       "\n",
       "    .dataframe thead th {\n",
       "        text-align: right;\n",
       "    }\n",
       "</style>\n",
       "<table border=\"1\" class=\"dataframe\">\n",
       "  <thead>\n",
       "    <tr style=\"text-align: right;\">\n",
       "      <th></th>\n",
       "      <th>Y</th>\n",
       "      <th>cor_sales_in_vol</th>\n",
       "      <th>cor_sales_in_val</th>\n",
       "      <th>CA_mag</th>\n",
       "      <th>value</th>\n",
       "      <th>ENSEIGNE</th>\n",
       "      <th>VenteConv</th>\n",
       "      <th>Feature</th>\n",
       "    </tr>\n",
       "  </thead>\n",
       "  <tbody>\n",
       "    <tr>\n",
       "      <th>1</th>\n",
       "      <td>0</td>\n",
       "      <td>-0.523155</td>\n",
       "      <td>-0.458692</td>\n",
       "      <td>-0.201180</td>\n",
       "      <td>0.146677</td>\n",
       "      <td>0.338037</td>\n",
       "      <td>-0.507839</td>\n",
       "      <td>0</td>\n",
       "    </tr>\n",
       "    <tr>\n",
       "      <th>2</th>\n",
       "      <td>0</td>\n",
       "      <td>-0.523155</td>\n",
       "      <td>-0.559977</td>\n",
       "      <td>0.125993</td>\n",
       "      <td>-0.648938</td>\n",
       "      <td>0.405287</td>\n",
       "      <td>-0.583034</td>\n",
       "      <td>0</td>\n",
       "    </tr>\n",
       "    <tr>\n",
       "      <th>3</th>\n",
       "      <td>0</td>\n",
       "      <td>0.105097</td>\n",
       "      <td>-0.344961</td>\n",
       "      <td>0.095987</td>\n",
       "      <td>1.737906</td>\n",
       "      <td>0.321567</td>\n",
       "      <td>0.770479</td>\n",
       "      <td>0</td>\n",
       "    </tr>\n",
       "    <tr>\n",
       "      <th>4</th>\n",
       "      <td>0</td>\n",
       "      <td>-0.523155</td>\n",
       "      <td>-0.507504</td>\n",
       "      <td>0.073937</td>\n",
       "      <td>-0.980444</td>\n",
       "      <td>0.429692</td>\n",
       "      <td>-0.614366</td>\n",
       "      <td>0</td>\n",
       "    </tr>\n",
       "    <tr>\n",
       "      <th>5</th>\n",
       "      <td>0</td>\n",
       "      <td>-0.209029</td>\n",
       "      <td>0.052610</td>\n",
       "      <td>1.932210</td>\n",
       "      <td>1.074894</td>\n",
       "      <td>0.338037</td>\n",
       "      <td>0.049859</td>\n",
       "      <td>0</td>\n",
       "    </tr>\n",
       "    <tr>\n",
       "      <th>...</th>\n",
       "      <td>...</td>\n",
       "      <td>...</td>\n",
       "      <td>...</td>\n",
       "      <td>...</td>\n",
       "      <td>...</td>\n",
       "      <td>...</td>\n",
       "      <td>...</td>\n",
       "      <td>...</td>\n",
       "    </tr>\n",
       "    <tr>\n",
       "      <th>25778</th>\n",
       "      <td>1</td>\n",
       "      <td>-0.627864</td>\n",
       "      <td>-0.574620</td>\n",
       "      <td>-1.172994</td>\n",
       "      <td>0.411882</td>\n",
       "      <td>0.478940</td>\n",
       "      <td>-0.608100</td>\n",
       "      <td>0</td>\n",
       "    </tr>\n",
       "    <tr>\n",
       "      <th>25779</th>\n",
       "      <td>1</td>\n",
       "      <td>-0.209029</td>\n",
       "      <td>-0.284801</td>\n",
       "      <td>-1.172994</td>\n",
       "      <td>0.080376</td>\n",
       "      <td>0.478940</td>\n",
       "      <td>-0.185126</td>\n",
       "      <td>0</td>\n",
       "    </tr>\n",
       "    <tr>\n",
       "      <th>25780</th>\n",
       "      <td>1</td>\n",
       "      <td>0.523932</td>\n",
       "      <td>0.292031</td>\n",
       "      <td>-1.172994</td>\n",
       "      <td>0.080376</td>\n",
       "      <td>0.478940</td>\n",
       "      <td>0.582491</td>\n",
       "      <td>0</td>\n",
       "    </tr>\n",
       "    <tr>\n",
       "      <th>25781</th>\n",
       "      <td>1</td>\n",
       "      <td>-0.209029</td>\n",
       "      <td>-0.342154</td>\n",
       "      <td>-1.172994</td>\n",
       "      <td>-0.648938</td>\n",
       "      <td>0.478940</td>\n",
       "      <td>-0.357449</td>\n",
       "      <td>0</td>\n",
       "    </tr>\n",
       "    <tr>\n",
       "      <th>25782</th>\n",
       "      <td>1</td>\n",
       "      <td>-0.209029</td>\n",
       "      <td>-0.067711</td>\n",
       "      <td>-1.172994</td>\n",
       "      <td>0.411882</td>\n",
       "      <td>0.478940</td>\n",
       "      <td>-0.106798</td>\n",
       "      <td>0</td>\n",
       "    </tr>\n",
       "  </tbody>\n",
       "</table>\n",
       "<p>23092 rows × 8 columns</p>\n",
       "</div>"
      ],
      "text/plain": [
       "       Y  cor_sales_in_vol  cor_sales_in_val    CA_mag     value  ENSEIGNE  \\\n",
       "1      0         -0.523155         -0.458692 -0.201180  0.146677  0.338037   \n",
       "2      0         -0.523155         -0.559977  0.125993 -0.648938  0.405287   \n",
       "3      0          0.105097         -0.344961  0.095987  1.737906  0.321567   \n",
       "4      0         -0.523155         -0.507504  0.073937 -0.980444  0.429692   \n",
       "5      0         -0.209029          0.052610  1.932210  1.074894  0.338037   \n",
       "...   ..               ...               ...       ...       ...       ...   \n",
       "25778  1         -0.627864         -0.574620 -1.172994  0.411882  0.478940   \n",
       "25779  1         -0.209029         -0.284801 -1.172994  0.080376  0.478940   \n",
       "25780  1          0.523932          0.292031 -1.172994  0.080376  0.478940   \n",
       "25781  1         -0.209029         -0.342154 -1.172994 -0.648938  0.478940   \n",
       "25782  1         -0.209029         -0.067711 -1.172994  0.411882  0.478940   \n",
       "\n",
       "       VenteConv  Feature  \n",
       "1      -0.507839        0  \n",
       "2      -0.583034        0  \n",
       "3       0.770479        0  \n",
       "4      -0.614366        0  \n",
       "5       0.049859        0  \n",
       "...          ...      ...  \n",
       "25778  -0.608100        0  \n",
       "25779  -0.185126        0  \n",
       "25780   0.582491        0  \n",
       "25781  -0.357449        0  \n",
       "25782  -0.106798        0  \n",
       "\n",
       "[23092 rows x 8 columns]"
      ]
     },
     "execution_count": 151,
     "metadata": {},
     "output_type": "execute_result"
    }
   ],
   "source": [
    "# write a function to label encode the target variable (Y) if its value == 'No_Displ' then 0 else 1\n",
    "def label_encode_Feature(df):\n",
    "    df['Feature'] = np.where(df['Feature'] == 'No_Feat', 0, 1)\n",
    "    return df\n",
    "\n",
    "\n",
    "label_encode_Feature(df)\n"
   ]
  },
  {
   "cell_type": "code",
   "execution_count": 152,
   "metadata": {},
   "outputs": [],
   "source": [
    "# TODO : Entropy-based MDLPC: "
   ]
  },
  {
   "cell_type": "code",
   "execution_count": 154,
   "metadata": {},
   "outputs": [
    {
     "data": {
      "image/png": "[encoded data removed]",
      "text/plain": [
       "<Figure size 1008x1008 with 6 Axes>"
      ]
     },
     "metadata": {
      "needs_background": "light"
     },
     "output_type": "display_data"
    }
   ],
   "source": [
    "#ploting all numerical values with exploring the skewness\n",
    "import seaborn as sns\n",
    "\n",
    "f, axes = plt.subplots(3, 2, figsize=(14, 14), sharex=True)\n",
    "sns.histplot(df['cor_sales_in_vol'], color=\"skyblue\", ax=axes[0, 0])\n",
    "sns.histplot(df['cor_sales_in_val'], color=\"olive\", ax=axes[0, 1])\n",
    "sns.histplot(df['CA_mag'], color=\"gold\", ax=axes[1, 0])\n",
    "sns.histplot(df['value'], color=\"teal\", ax=axes[1, 1])\n",
    "sns.histplot(df['VenteConv'], color=\"pink\", ax=axes[2, 0])\n",
    "sns.histplot(df['ENSEIGNE'], color=\"pink\", ax=axes[2, 1])\n",
    "\n",
    "\n",
    "\n",
    "num_values = ['cor_sales_in_vol', 'cor_sales_in_val',\n",
    "              'CA_mag', 'value', 'VenteConv', 'ENSEIGNE']\n",
    "\n",
    "#print(len(enumerate(axes.reshape(-1))))\n",
    "for i, ax in enumerate(axes.reshape(-1)):\n",
    "    ax.text(x=0.97, y=0.97, transform=ax.transAxes, s=\"Skewness: %f\" % df[num_values[i]].skew(),\n",
    "            fontweight='demibold', fontsize=10, verticalalignment='top', horizontalalignment='right',\n",
    "            backgroundcolor='white', color='xkcd:poo brown')\n",
    "    ax.text(x=0.97, y=0.91, transform=ax.transAxes, s=\"Kurtosis: %f\" % df[num_values[i]].kurt(),\n",
    "            fontweight='demibold', fontsize=10, verticalalignment='top', horizontalalignment='right',\n",
    "            backgroundcolor='white', color='xkcd:dried blood')\n",
    "plt.tight_layout()\n",
    " "
   ]
  },
  {
   "cell_type": "code",
   "execution_count": 155,
   "metadata": {},
   "outputs": [
    {
     "data": {
      "text/html": [
       "<div>\n",
       "<style scoped>\n",
       "    .dataframe tbody tr th:only-of-type {\n",
       "        vertical-align: middle;\n",
       "    }\n",
       "\n",
       "    .dataframe tbody tr th {\n",
       "        vertical-align: top;\n",
       "    }\n",
       "\n",
       "    .dataframe thead th {\n",
       "        text-align: right;\n",
       "    }\n",
       "</style>\n",
       "<table border=\"1\" class=\"dataframe\">\n",
       "  <thead>\n",
       "    <tr style=\"text-align: right;\">\n",
       "      <th></th>\n",
       "      <th>Y</th>\n",
       "      <th>cor_sales_in_vol</th>\n",
       "      <th>cor_sales_in_val</th>\n",
       "      <th>CA_mag</th>\n",
       "      <th>value</th>\n",
       "      <th>ENSEIGNE</th>\n",
       "      <th>VenteConv</th>\n",
       "      <th>Feature</th>\n",
       "    </tr>\n",
       "  </thead>\n",
       "  <tbody>\n",
       "    <tr>\n",
       "      <th>1</th>\n",
       "      <td>0</td>\n",
       "      <td>-0.709506</td>\n",
       "      <td>-0.502125</td>\n",
       "      <td>0.046351</td>\n",
       "      <td>0.341574</td>\n",
       "      <td>0.338037</td>\n",
       "      <td>-0.567069</td>\n",
       "      <td>0</td>\n",
       "    </tr>\n",
       "    <tr>\n",
       "      <th>2</th>\n",
       "      <td>0</td>\n",
       "      <td>-0.709506</td>\n",
       "      <td>-0.909596</td>\n",
       "      <td>0.417199</td>\n",
       "      <td>-0.640363</td>\n",
       "      <td>0.405287</td>\n",
       "      <td>-0.845462</td>\n",
       "      <td>0</td>\n",
       "    </tr>\n",
       "    <tr>\n",
       "      <th>3</th>\n",
       "      <td>0</td>\n",
       "      <td>0.837993</td>\n",
       "      <td>-0.110600</td>\n",
       "      <td>0.386840</td>\n",
       "      <td>1.573952</td>\n",
       "      <td>0.321567</td>\n",
       "      <td>1.369331</td>\n",
       "      <td>0</td>\n",
       "    </tr>\n",
       "    <tr>\n",
       "      <th>4</th>\n",
       "      <td>0</td>\n",
       "      <td>-0.709506</td>\n",
       "      <td>-0.691295</td>\n",
       "      <td>0.364106</td>\n",
       "      <td>-1.145545</td>\n",
       "      <td>0.429692</td>\n",
       "      <td>-0.969528</td>\n",
       "      <td>0</td>\n",
       "    </tr>\n",
       "    <tr>\n",
       "      <th>5</th>\n",
       "      <td>0</td>\n",
       "      <td>0.262648</td>\n",
       "      <td>0.794141</td>\n",
       "      <td>1.609802</td>\n",
       "      <td>1.128831</td>\n",
       "      <td>0.338037</td>\n",
       "      <td>0.763839</td>\n",
       "      <td>0</td>\n",
       "    </tr>\n",
       "    <tr>\n",
       "      <th>...</th>\n",
       "      <td>...</td>\n",
       "      <td>...</td>\n",
       "      <td>...</td>\n",
       "      <td>...</td>\n",
       "      <td>...</td>\n",
       "      <td>...</td>\n",
       "      <td>...</td>\n",
       "      <td>...</td>\n",
       "    </tr>\n",
       "    <tr>\n",
       "      <th>25778</th>\n",
       "      <td>1</td>\n",
       "      <td>-1.140365</td>\n",
       "      <td>-0.973359</td>\n",
       "      <td>-1.568929</td>\n",
       "      <td>0.594613</td>\n",
       "      <td>0.478940</td>\n",
       "      <td>-0.944327</td>\n",
       "      <td>0</td>\n",
       "    </tr>\n",
       "    <tr>\n",
       "      <th>25779</th>\n",
       "      <td>1</td>\n",
       "      <td>0.262648</td>\n",
       "      <td>0.070234</td>\n",
       "      <td>-1.568929</td>\n",
       "      <td>0.273317</td>\n",
       "      <td>0.478940</td>\n",
       "      <td>0.345314</td>\n",
       "      <td>0</td>\n",
       "    </tr>\n",
       "    <tr>\n",
       "      <th>25780</th>\n",
       "      <td>1</td>\n",
       "      <td>1.242386</td>\n",
       "      <td>1.086009</td>\n",
       "      <td>-1.568929</td>\n",
       "      <td>0.273317</td>\n",
       "      <td>0.478940</td>\n",
       "      <td>1.264287</td>\n",
       "      <td>0</td>\n",
       "    </tr>\n",
       "    <tr>\n",
       "      <th>25781</th>\n",
       "      <td>1</td>\n",
       "      <td>0.262648</td>\n",
       "      <td>-0.101772</td>\n",
       "      <td>-1.568929</td>\n",
       "      <td>-0.640363</td>\n",
       "      <td>0.478940</td>\n",
       "      <td>-0.087865</td>\n",
       "      <td>0</td>\n",
       "    </tr>\n",
       "    <tr>\n",
       "      <th>25782</th>\n",
       "      <td>1</td>\n",
       "      <td>0.262648</td>\n",
       "      <td>0.587595</td>\n",
       "      <td>-1.568929</td>\n",
       "      <td>0.594613</td>\n",
       "      <td>0.478940</td>\n",
       "      <td>0.505303</td>\n",
       "      <td>0</td>\n",
       "    </tr>\n",
       "  </tbody>\n",
       "</table>\n",
       "<p>23092 rows × 8 columns</p>\n",
       "</div>"
      ],
      "text/plain": [
       "       Y  cor_sales_in_vol  cor_sales_in_val    CA_mag     value  ENSEIGNE  \\\n",
       "1      0         -0.709506         -0.502125  0.046351  0.341574  0.338037   \n",
       "2      0         -0.709506         -0.909596  0.417199 -0.640363  0.405287   \n",
       "3      0          0.837993         -0.110600  0.386840  1.573952  0.321567   \n",
       "4      0         -0.709506         -0.691295  0.364106 -1.145545  0.429692   \n",
       "5      0          0.262648          0.794141  1.609802  1.128831  0.338037   \n",
       "...   ..               ...               ...       ...       ...       ...   \n",
       "25778  1         -1.140365         -0.973359 -1.568929  0.594613  0.478940   \n",
       "25779  1          0.262648          0.070234 -1.568929  0.273317  0.478940   \n",
       "25780  1          1.242386          1.086009 -1.568929  0.273317  0.478940   \n",
       "25781  1          0.262648         -0.101772 -1.568929 -0.640363  0.478940   \n",
       "25782  1          0.262648          0.587595 -1.568929  0.594613  0.478940   \n",
       "\n",
       "       VenteConv  Feature  \n",
       "1      -0.567069        0  \n",
       "2      -0.845462        0  \n",
       "3       1.369331        0  \n",
       "4      -0.969528        0  \n",
       "5       0.763839        0  \n",
       "...          ...      ...  \n",
       "25778  -0.944327        0  \n",
       "25779   0.345314        0  \n",
       "25780   1.264287        0  \n",
       "25781  -0.087865        0  \n",
       "25782   0.505303        0  \n",
       "\n",
       "[23092 rows x 8 columns]"
      ]
     },
     "execution_count": 155,
     "metadata": {},
     "output_type": "execute_result"
    }
   ],
   "source": [
    "# write function to apply Yeo-Johnson Transformation on numerical features\n",
    "from sklearn.preprocessing import power_transform\n",
    "\n",
    "def yeo_johnson_transformation(df, features):\n",
    "    for feature in features:\n",
    "        df[feature] = power_transform(df[feature].values.reshape(-1, 1), method='yeo-johnson')\n",
    "    return df\n",
    "\n",
    "\n",
    "yeo_johnson_transformation(df, numerical_features)\n"
   ]
  },
  {
   "cell_type": "code",
   "execution_count": 156,
   "metadata": {},
   "outputs": [
    {
     "data": {
      "image/png": "[encoded data removed]",
      "text/plain": [
       "<Figure size 1008x1008 with 6 Axes>"
      ]
     },
     "metadata": {
      "needs_background": "light"
     },
     "output_type": "display_data"
    }
   ],
   "source": [
    "#ploting all numerical values with exploring the skewness\n",
    "import seaborn as sns\n",
    "\n",
    "f, axes = plt.subplots(3, 2, figsize=(14, 14), sharex=True)\n",
    "sns.histplot(df['cor_sales_in_vol'], color=\"skyblue\", ax=axes[0, 0])\n",
    "sns.histplot(df['cor_sales_in_val'], color=\"olive\", ax=axes[0, 1])\n",
    "sns.histplot(df['CA_mag'], color=\"gold\", ax=axes[1, 0])\n",
    "sns.histplot(df['value'], color=\"teal\", ax=axes[1, 1])\n",
    "sns.histplot(df['VenteConv'], color=\"pink\", ax=axes[2, 0])\n",
    "sns.histplot(df['ENSEIGNE'], color=\"pink\", ax=axes[2, 1])\n",
    "\n",
    "\n",
    "num_values = ['cor_sales_in_vol', 'cor_sales_in_val',\n",
    "              'CA_mag', 'value', 'VenteConv', 'ENSEIGNE']\n",
    "\n",
    "#print(len(enumerate(axes.reshape(-1))))\n",
    "for i, ax in enumerate(axes.reshape(-1)):\n",
    "    ax.text(x=0.97, y=0.97, transform=ax.transAxes, s=\"Skewness: %f\" % df[num_values[i]].skew(),\n",
    "            fontweight='demibold', fontsize=10, verticalalignment='top', horizontalalignment='right',\n",
    "            backgroundcolor='white', color='xkcd:poo brown')\n",
    "    ax.text(x=0.97, y=0.91, transform=ax.transAxes, s=\"Kurtosis: %f\" % df[num_values[i]].kurt(),\n",
    "            fontweight='demibold', fontsize=10, verticalalignment='top', horizontalalignment='right',\n",
    "            backgroundcolor='white', color='xkcd:dried blood')\n",
    "plt.tight_layout()\n"
   ]
  },
  {
   "cell_type": "code",
   "execution_count": 158,
   "metadata": {},
   "outputs": [],
   "source": [
    "# save df to csv\n",
    "df.to_csv('normalized_processed.csv', index=False)\n",
    "\n"
   ]
  },
  {
   "cell_type": "code",
   "execution_count": 159,
   "metadata": {},
   "outputs": [],
   "source": [
    "df_backup = df.copy()"
   ]
  },
  {
   "cell_type": "code",
   "execution_count": 173,
   "metadata": {},
   "outputs": [
    {
     "data": {
      "text/html": [
       "<div>\n",
       "<style scoped>\n",
       "    .dataframe tbody tr th:only-of-type {\n",
       "        vertical-align: middle;\n",
       "    }\n",
       "\n",
       "    .dataframe tbody tr th {\n",
       "        vertical-align: top;\n",
       "    }\n",
       "\n",
       "    .dataframe thead th {\n",
       "        text-align: right;\n",
       "    }\n",
       "</style>\n",
       "<table border=\"1\" class=\"dataframe\">\n",
       "  <thead>\n",
       "    <tr style=\"text-align: right;\">\n",
       "      <th></th>\n",
       "      <th>Y</th>\n",
       "      <th>cor_sales_in_vol</th>\n",
       "      <th>cor_sales_in_val</th>\n",
       "      <th>CA_mag</th>\n",
       "      <th>value</th>\n",
       "      <th>ENSEIGNE</th>\n",
       "      <th>VenteConv</th>\n",
       "      <th>Feature</th>\n",
       "    </tr>\n",
       "  </thead>\n",
       "  <tbody>\n",
       "    <tr>\n",
       "      <th>1</th>\n",
       "      <td>0</td>\n",
       "      <td>19</td>\n",
       "      <td>42</td>\n",
       "      <td>66</td>\n",
       "      <td>74</td>\n",
       "      <td>0.338037</td>\n",
       "      <td>39</td>\n",
       "      <td>0</td>\n",
       "    </tr>\n",
       "    <tr>\n",
       "      <th>2</th>\n",
       "      <td>0</td>\n",
       "      <td>19</td>\n",
       "      <td>25</td>\n",
       "      <td>80</td>\n",
       "      <td>54</td>\n",
       "      <td>0.405287</td>\n",
       "      <td>27</td>\n",
       "      <td>0</td>\n",
       "    </tr>\n",
       "    <tr>\n",
       "      <th>3</th>\n",
       "      <td>0</td>\n",
       "      <td>88</td>\n",
       "      <td>58</td>\n",
       "      <td>79</td>\n",
       "      <td>98</td>\n",
       "      <td>0.321567</td>\n",
       "      <td>123</td>\n",
       "      <td>0</td>\n",
       "    </tr>\n",
       "    <tr>\n",
       "      <th>4</th>\n",
       "      <td>0</td>\n",
       "      <td>19</td>\n",
       "      <td>34</td>\n",
       "      <td>78</td>\n",
       "      <td>44</td>\n",
       "      <td>0.429692</td>\n",
       "      <td>21</td>\n",
       "      <td>0</td>\n",
       "    </tr>\n",
       "    <tr>\n",
       "      <th>5</th>\n",
       "      <td>0</td>\n",
       "      <td>62</td>\n",
       "      <td>96</td>\n",
       "      <td>126</td>\n",
       "      <td>90</td>\n",
       "      <td>0.338037</td>\n",
       "      <td>96</td>\n",
       "      <td>0</td>\n",
       "    </tr>\n",
       "  </tbody>\n",
       "</table>\n",
       "</div>"
      ],
      "text/plain": [
       "   Y cor_sales_in_vol cor_sales_in_val CA_mag value  ENSEIGNE VenteConv  \\\n",
       "1  0               19               42     66    74  0.338037        39   \n",
       "2  0               19               25     80    54  0.405287        27   \n",
       "3  0               88               58     79    98  0.321567       123   \n",
       "4  0               19               34     78    44  0.429692        21   \n",
       "5  0               62               96    126    90  0.338037        96   \n",
       "\n",
       "   Feature  \n",
       "1        0  \n",
       "2        0  \n",
       "3        0  \n",
       "4        0  \n",
       "5        0  "
      ]
     },
     "execution_count": 173,
     "metadata": {},
     "output_type": "execute_result"
    }
   ],
   "source": [
    "df_backup.head()"
   ]
  },
  {
   "cell_type": "code",
   "execution_count": 172,
   "metadata": {},
   "outputs": [],
   "source": [
    "import numpy as np\n",
    "import math\n",
    "# Define the function to calculate the optimal number of intervals\n",
    "\n",
    "\n",
    "def calculate_optimal_intervals(data):\n",
    "    n = len(data)\n",
    "    k_min = 2\n",
    "    k_max = int(np.sqrt(n))\n",
    "    k_optimal = k_min\n",
    "    mdl_min = float(\"inf\")\n",
    "    \n",
    "    # preventing log(0)\n",
    "    data += np.finfo(float).eps\n",
    "\n",
    "    for k in range(k_min, k_max):\n",
    "        intervals = np.linspace(data.min(), data.max(), k+1)\n",
    "        interval_freqs = np.histogram(data, intervals)[0]\n",
    "        #interval_freqs += np.finfo(float).eps\n",
    "        # Calculate the MDLPC\n",
    "        ent = sum(np.array(interval_freqs)/n *\n",
    "                  np.log2(np.array(interval_freqs)/n + np.finfo(float).eps))\n",
    "        mdl = ent\n",
    "        if mdl < mdl_min:\n",
    "            mdl_min = mdl\n",
    "            k_optimal = k\n",
    "    return k_optimal\n",
    "\n",
    "\n",
    "# Discretize the numerical features using the MDLPC criterion\n",
    "numerical_features = [\"cor_sales_in_vol\",\n",
    "                      \"cor_sales_in_val\", \"CA_mag\", \"value\", \"VenteConv\"]\n",
    "for feature in numerical_features:\n",
    "    n_intervals = calculate_optimal_intervals(df_backup[feature])\n",
    "    df_backup[feature] = pd.cut(\n",
    "        df_backup[feature], n_intervals, labels=range(n_intervals))\n"
   ]
  },
  {
   "cell_type": "code",
   "execution_count": 174,
   "metadata": {},
   "outputs": [],
   "source": [
    "# save df to csv\n",
    "df_backup.to_csv('data_after_MDLPC.csv', index=False)\n"
   ]
  },
  {
   "attachments": {},
   "cell_type": "markdown",
   "metadata": {},
   "source": [
    "### Trying the models \n",
    "\n",
    "- **Logit model**\n",
    "\n",
    "- **ADL model**\n",
    "\n",
    "- **Decision tree**\n",
    "\n",
    "- **Random Forest**\n",
    "\n",
    "- **Neural network**\n",
    "\n",
    "- **Gradient Boosting machine**\n",
    "\n",
    "- **Support Vector Machine**"
   ]
  },
  {
   "attachments": {},
   "cell_type": "markdown",
   "metadata": {},
   "source": [
    "#### Logit model\n",
    "The logit model, also known as a logistic regression model, is used for binary classification problems. It estimates the probability of the target variable being a certain class given the independent variables."
   ]
  },
  {
   "cell_type": "code",
   "execution_count": 175,
   "metadata": {},
   "outputs": [],
   "source": [
    "import pandas as pd\n",
    "from sklearn.linear_model import LogisticRegression\n",
    "from sklearn.model_selection import train_test_split\n",
    "\n",
    "# load the dataset\n",
    "df = df_backup\n",
    "\n",
    "# split the data into the features(X) and the target(Y)\n",
    "X = df.drop('Y', axis=1)\n",
    "Y = df['Y']\n",
    "\n",
    "# split the data into training and testing sets\n",
    "X_train, X_test, Y_train, Y_test = train_test_split(\n",
    "    X, Y, test_size=0.2, random_state=42)\n",
    "\n",
    "# instantiate the model\n",
    "logit = LogisticRegression()\n",
    "\n",
    "# fit the model on the training data\n",
    "logit.fit(X_train, Y_train)\n",
    "\n",
    "# make predictions on the test data\n",
    "Y_pred = logit.predict(X_test)\n"
   ]
  },
  {
   "cell_type": "code",
   "execution_count": 181,
   "metadata": {},
   "outputs": [
    {
     "data": {
      "image/png": "[encoded data removed]",
      "text/plain": [
       "<Figure size 288x288 with 2 Axes>"
      ]
     },
     "metadata": {
      "needs_background": "light"
     },
     "output_type": "display_data"
    }
   ],
   "source": [
    "from sklearn.metrics import confusion_matrix\n",
    "import matplotlib.pyplot as plt\n",
    "\n",
    "\n",
    "def plot_confusion_matrix(y_true, y_pred):\n",
    "    conf_matrix = confusion_matrix(y_true, y_pred)\n",
    "    plt.figure(figsize=(4, 4))\n",
    "    sns.heatmap(conf_matrix, annot=True, cmap='Blues', fmt='g')\n",
    "    plt.ylabel('True label')\n",
    "    plt.xlabel('Predicted label')\n",
    "\n",
    "\n",
    "plot_confusion_matrix(Y_test, Y_pred)\n"
   ]
  },
  {
   "cell_type": "code",
   "execution_count": 180,
   "metadata": {},
   "outputs": [
    {
     "name": "stdout",
     "output_type": "stream",
     "text": [
      "Accuracy: 0.7369560510933102\n",
      "Precision: 0.8161157024793388\n",
      "Recall: 0.5555555555555556\n",
      "F1 Score: 0.6610878661087867\n"
     ]
    }
   ],
   "source": [
    "from sklearn.metrics import accuracy_score, precision_score, recall_score, f1_score\n",
    "\n",
    "\n",
    "def evaluate_model(y_true, y_pred):\n",
    "    acc = accuracy_score(y_true, y_pred)\n",
    "    prec = precision_score(y_true, y_pred)\n",
    "    rec = recall_score(y_true, y_pred)\n",
    "    f1 = f1_score(y_true, y_pred)\n",
    "\n",
    "    return acc, prec, rec, f1\n",
    "\n",
    "\n",
    "acc, prec, rec, f1 = evaluate_model(Y_test, Y_pred)\n",
    "print(\"Accuracy:\", acc)\n",
    "print(\"Precision:\", prec)\n",
    "print(\"Recall:\", rec)\n",
    "print(\"F1 Score:\", f1)\n"
   ]
  },
  {
   "attachments": {},
   "cell_type": "markdown",
   "metadata": {},
   "source": [
    "#### ADL model: \n",
    "Linear discriminant analysis (LDA) is a method used for classification and dimensionality reduction. It aims to find a linear combination of the independent variables that best separates the different classes of the target variable."
   ]
  },
  {
   "cell_type": "code",
   "execution_count": 186,
   "metadata": {},
   "outputs": [],
   "source": [
    "from sklearn.discriminant_analysis import LinearDiscriminantAnalysis"
   ]
  },
  {
   "cell_type": "code",
   "execution_count": 187,
   "metadata": {},
   "outputs": [],
   "source": [
    "# instantiate the model\n",
    "adl = LinearDiscriminantAnalysis()\n",
    "# fit the model on the training data\n",
    "adl.fit(X_train, Y_train)\n",
    "# make predictions on the test data\n",
    "Y_pred = adl.predict(X_test)\n"
   ]
  },
  {
   "cell_type": "code",
   "execution_count": 190,
   "metadata": {},
   "outputs": [
    {
     "data": {
      "image/png": "[encoded data removed]",
      "text/plain": [
       "<Figure size 288x288 with 2 Axes>"
      ]
     },
     "metadata": {
      "needs_background": "light"
     },
     "output_type": "display_data"
    }
   ],
   "source": [
    "from sklearn.metrics import confusion_matrix\n",
    "import matplotlib.pyplot as plt\n",
    "\n",
    "\n",
    "def plot_confusion_matrix(y_true, y_pred):\n",
    "    conf_matrix = confusion_matrix(y_true, y_pred)\n",
    "    plt.figure(figsize=(4, 4))\n",
    "    sns.heatmap(conf_matrix, annot=True, cmap='Blues', fmt='g')\n",
    "    plt.ylabel('True label')\n",
    "    plt.xlabel('Predicted label')\n",
    "\n",
    "\n",
    "plot_confusion_matrix(Y_test, Y_pred)\n"
   ]
  },
  {
   "cell_type": "code",
   "execution_count": 191,
   "metadata": {},
   "outputs": [
    {
     "name": "stdout",
     "output_type": "stream",
     "text": [
      "Accuracy: 0.7352240744749946\n",
      "Precision: 0.8628389154704944\n",
      "Recall: 0.5072667604313174\n",
      "F1 Score: 0.6389134927664599\n"
     ]
    }
   ],
   "source": [
    "acc, prec, rec, f1 = evaluate_model(Y_test, Y_pred)\n",
    "print(\"Accuracy:\", acc)\n",
    "print(\"Precision:\", prec)\n",
    "print(\"Recall:\", rec)\n",
    "print(\"F1 Score:\", f1)\n"
   ]
  },
  {
   "attachments": {},
   "cell_type": "markdown",
   "metadata": {},
   "source": [
    "#### Decision tree: \n",
    "Decision trees are a type of supervised learning algorithm used for both classification and regression problems. They work by recursively partitioning the data into subsets based on the values of the independent variables."
   ]
  },
  {
   "cell_type": "code",
   "execution_count": 192,
   "metadata": {},
   "outputs": [],
   "source": [
    "from sklearn.tree import DecisionTreeClassifier\n",
    "\n",
    "# instantiate the model\n",
    "dt = DecisionTreeClassifier()\n",
    "# fit the model on the training data\n",
    "dt.fit(X_train, Y_train)\n",
    "# make predictions on the test data\n",
    "Y_pred = dt.predict(X_test)\n"
   ]
  },
  {
   "cell_type": "code",
   "execution_count": 193,
   "metadata": {},
   "outputs": [
    {
     "data": {
      "image/png": "[encoded data removed]",
      "text/plain": [
       "<Figure size 288x288 with 2 Axes>"
      ]
     },
     "metadata": {
      "needs_background": "light"
     },
     "output_type": "display_data"
    }
   ],
   "source": [
    "plot_confusion_matrix(Y_test, Y_pred)\n"
   ]
  },
  {
   "cell_type": "code",
   "execution_count": 194,
   "metadata": {},
   "outputs": [
    {
     "name": "stdout",
     "output_type": "stream",
     "text": [
      "Accuracy: 0.7906473262610955\n",
      "Precision: 0.7621402877697842\n",
      "Recall: 0.7946554149085795\n",
      "F1 Score: 0.7780582969933441\n"
     ]
    }
   ],
   "source": [
    "acc, prec, rec, f1 = evaluate_model(Y_test, Y_pred)\n",
    "print(\"Accuracy:\", acc)\n",
    "print(\"Precision:\", prec)\n",
    "print(\"Recall:\", rec)\n",
    "print(\"F1 Score:\", f1)\n"
   ]
  },
  {
   "attachments": {},
   "cell_type": "markdown",
   "metadata": {},
   "source": [
    "##### We will try to fine-tune the DT model to explore better results "
   ]
  },
  {
   "cell_type": "code",
   "execution_count": 195,
   "metadata": {},
   "outputs": [],
   "source": [
    "from sklearn.model_selection import GridSearchCV\n"
   ]
  },
  {
   "cell_type": "code",
   "execution_count": 197,
   "metadata": {},
   "outputs": [
    {
     "data": {
      "text/html": [
       "<style>#sk-container-id-2 {color: black;background-color: white;}#sk-container-id-2 pre{padding: 0;}#sk-container-id-2 div.sk-toggleable {background-color: white;}#sk-container-id-2 label.sk-toggleable__label {cursor: pointer;display: block;width: 100%;margin-bottom: 0;padding: 0.3em;box-sizing: border-box;text-align: center;}#sk-container-id-2 label.sk-toggleable__label-arrow:before {content: \"▸\";float: left;margin-right: 0.25em;color: #696969;}#sk-container-id-2 label.sk-toggleable__label-arrow:hover:before {color: black;}#sk-container-id-2 div.sk-estimator:hover label.sk-toggleable__label-arrow:before {color: black;}#sk-container-id-2 div.sk-toggleable__content {max-height: 0;max-width: 0;overflow: hidden;text-align: left;background-color: #f0f8ff;}#sk-container-id-2 div.sk-toggleable__content pre {margin: 0.2em;color: black;border-radius: 0.25em;background-color: #f0f8ff;}#sk-container-id-2 input.sk-toggleable__control:checked~div.sk-toggleable__content {max-height: 200px;max-width: 100%;overflow: auto;}#sk-container-id-2 input.sk-toggleable__control:checked~label.sk-toggleable__label-arrow:before {content: \"▾\";}#sk-container-id-2 div.sk-estimator input.sk-toggleable__control:checked~label.sk-toggleable__label {background-color: #d4ebff;}#sk-container-id-2 div.sk-label input.sk-toggleable__control:checked~label.sk-toggleable__label {background-color: #d4ebff;}#sk-container-id-2 input.sk-hidden--visually {border: 0;clip: rect(1px 1px 1px 1px);clip: rect(1px, 1px, 1px, 1px);height: 1px;margin: -1px;overflow: hidden;padding: 0;position: absolute;width: 1px;}#sk-container-id-2 div.sk-estimator {font-family: monospace;background-color: #f0f8ff;border: 1px dotted black;border-radius: 0.25em;box-sizing: border-box;margin-bottom: 0.5em;}#sk-container-id-2 div.sk-estimator:hover {background-color: #d4ebff;}#sk-container-id-2 div.sk-parallel-item::after {content: \"\";width: 100%;border-bottom: 1px solid gray;flex-grow: 1;}#sk-container-id-2 div.sk-label:hover label.sk-toggleable__label {background-color: #d4ebff;}#sk-container-id-2 div.sk-serial::before {content: \"\";position: absolute;border-left: 1px solid gray;box-sizing: border-box;top: 0;bottom: 0;left: 50%;z-index: 0;}#sk-container-id-2 div.sk-serial {display: flex;flex-direction: column;align-items: center;background-color: white;padding-right: 0.2em;padding-left: 0.2em;position: relative;}#sk-container-id-2 div.sk-item {position: relative;z-index: 1;}#sk-container-id-2 div.sk-parallel {display: flex;align-items: stretch;justify-content: center;background-color: white;position: relative;}#sk-container-id-2 div.sk-item::before, #sk-container-id-2 div.sk-parallel-item::before {content: \"\";position: absolute;border-left: 1px solid gray;box-sizing: border-box;top: 0;bottom: 0;left: 50%;z-index: -1;}#sk-container-id-2 div.sk-parallel-item {display: flex;flex-direction: column;z-index: 1;position: relative;background-color: white;}#sk-container-id-2 div.sk-parallel-item:first-child::after {align-self: flex-end;width: 50%;}#sk-container-id-2 div.sk-parallel-item:last-child::after {align-self: flex-start;width: 50%;}#sk-container-id-2 div.sk-parallel-item:only-child::after {width: 0;}#sk-container-id-2 div.sk-dashed-wrapped {border: 1px dashed gray;margin: 0 0.4em 0.5em 0.4em;box-sizing: border-box;padding-bottom: 0.4em;background-color: white;}#sk-container-id-2 div.sk-label label {font-family: monospace;font-weight: bold;display: inline-block;line-height: 1.2em;}#sk-container-id-2 div.sk-label-container {text-align: center;}#sk-container-id-2 div.sk-container {/* jupyter's `normalize.less` sets `[hidden] { display: none; }` but bootstrap.min.css set `[hidden] { display: none !important; }` so we also need the `!important` here to be able to override the default hidden behavior on the sphinx rendered scikit-learn.org. See: https://github.com/scikit-learn/scikit-learn/issues/21755 */display: inline-block !important;position: relative;}#sk-container-id-2 div.sk-text-repr-fallback {display: none;}</style><div id=\"sk-container-id-2\" class=\"sk-top-container\"><div class=\"sk-text-repr-fallback\"><pre>GridSearchCV(cv=5, estimator=DecisionTreeClassifier(),\n",
       "             param_grid={&#x27;max_depth&#x27;: [2, 4, 6, 8, 10],\n",
       "                         &#x27;min_samples_leaf&#x27;: [1, 2, 4, 6, 8, 10],\n",
       "                         &#x27;min_samples_split&#x27;: [2, 4, 6, 8, 10]})</pre><b>In a Jupyter environment, please rerun this cell to show the HTML representation or trust the notebook. <br />On GitHub, the HTML representation is unable to render, please try loading this page with nbviewer.org.</b></div><div class=\"sk-container\" hidden><div class=\"sk-item sk-dashed-wrapped\"><div class=\"sk-label-container\"><div class=\"sk-label sk-toggleable\"><input class=\"sk-toggleable__control sk-hidden--visually\" id=\"sk-estimator-id-2\" type=\"checkbox\" ><label for=\"sk-estimator-id-2\" class=\"sk-toggleable__label sk-toggleable__label-arrow\">GridSearchCV</label><div class=\"sk-toggleable__content\"><pre>GridSearchCV(cv=5, estimator=DecisionTreeClassifier(),\n",
       "             param_grid={&#x27;max_depth&#x27;: [2, 4, 6, 8, 10],\n",
       "                         &#x27;min_samples_leaf&#x27;: [1, 2, 4, 6, 8, 10],\n",
       "                         &#x27;min_samples_split&#x27;: [2, 4, 6, 8, 10]})</pre></div></div></div><div class=\"sk-parallel\"><div class=\"sk-parallel-item\"><div class=\"sk-item\"><div class=\"sk-label-container\"><div class=\"sk-label sk-toggleable\"><input class=\"sk-toggleable__control sk-hidden--visually\" id=\"sk-estimator-id-3\" type=\"checkbox\" ><label for=\"sk-estimator-id-3\" class=\"sk-toggleable__label sk-toggleable__label-arrow\">estimator: DecisionTreeClassifier</label><div class=\"sk-toggleable__content\"><pre>DecisionTreeClassifier()</pre></div></div></div><div class=\"sk-serial\"><div class=\"sk-item\"><div class=\"sk-estimator sk-toggleable\"><input class=\"sk-toggleable__control sk-hidden--visually\" id=\"sk-estimator-id-4\" type=\"checkbox\" ><label for=\"sk-estimator-id-4\" class=\"sk-toggleable__label sk-toggleable__label-arrow\">DecisionTreeClassifier</label><div class=\"sk-toggleable__content\"><pre>DecisionTreeClassifier()</pre></div></div></div></div></div></div></div></div></div></div>"
      ],
      "text/plain": [
       "GridSearchCV(cv=5, estimator=DecisionTreeClassifier(),\n",
       "             param_grid={'max_depth': [2, 4, 6, 8, 10],\n",
       "                         'min_samples_leaf': [1, 2, 4, 6, 8, 10],\n",
       "                         'min_samples_split': [2, 4, 6, 8, 10]})"
      ]
     },
     "execution_count": 197,
     "metadata": {},
     "output_type": "execute_result"
    }
   ],
   "source": [
    "# Define the parameter grid to search over\n",
    "param_grid = {'max_depth': [2, 4, 6, 8, 10],\n",
    "              'min_samples_split': [2, 4, 6, 8, 10],\n",
    "              'min_samples_leaf': [1, 2, 4, 6, 8, 10]}\n",
    "# Instantiate the GridSearchCV object\n",
    "grid_search = GridSearchCV(dt, param_grid, cv=5)\n",
    "# Fit the grid search object to the data\n",
    "grid_search.fit(X_train, Y_train)\n"
   ]
  },
  {
   "cell_type": "code",
   "execution_count": 198,
   "metadata": {},
   "outputs": [
    {
     "name": "stdout",
     "output_type": "stream",
     "text": [
      "Best parameters:  {'max_depth': 10, 'min_samples_leaf': 6, 'min_samples_split': 6}\n",
      "Best score:  0.7755100360237462\n"
     ]
    }
   ],
   "source": [
    "# Print the best parameters and the best score\n",
    "print(\"Best parameters: \", grid_search.best_params_)\n",
    "print(\"Best score: \", grid_search.best_score_)\n"
   ]
  },
  {
   "cell_type": "code",
   "execution_count": 200,
   "metadata": {},
   "outputs": [],
   "source": [
    "# Re-train the model with the best parameters\n",
    "dt = DecisionTreeClassifier(max_depth=grid_search.best_params_[\"max_depth\"],\n",
    "                            min_samples_split=grid_search.best_params_[\n",
    "                                \"min_samples_split\"],\n",
    "                            min_samples_leaf=grid_search.best_params_[\"min_samples_leaf\"])\n",
    "dt.fit(X_train, Y_train)\n",
    "\n",
    "Y_pred = dt.predict(X_test)"
   ]
  },
  {
   "cell_type": "code",
   "execution_count": 201,
   "metadata": {},
   "outputs": [
    {
     "data": {
      "image/png": "[encoded data removed]",
      "text/plain": [
       "<Figure size 288x288 with 2 Axes>"
      ]
     },
     "metadata": {
      "needs_background": "light"
     },
     "output_type": "display_data"
    }
   ],
   "source": [
    "plot_confusion_matrix(Y_test, Y_pred)\n"
   ]
  },
  {
   "cell_type": "code",
   "execution_count": 202,
   "metadata": {},
   "outputs": [
    {
     "name": "stdout",
     "output_type": "stream",
     "text": [
      "Accuracy: 0.7841524139424118\n",
      "Precision: 0.8384982121573301\n",
      "Recall: 0.659634317862166\n",
      "F1 Score: 0.7383888743112044\n"
     ]
    }
   ],
   "source": [
    "acc, prec, rec, f1 = evaluate_model(Y_test, Y_pred)\n",
    "print(\"Accuracy:\", acc)\n",
    "print(\"Precision:\", prec)\n",
    "print(\"Recall:\", rec)\n",
    "print(\"F1 Score:\", f1)\n"
   ]
  },
  {
   "attachments": {},
   "cell_type": "markdown",
   "metadata": {},
   "source": [
    "##### It turns out that we gote worse results when we tried to tune the model, that might be due to several reasons such as : \n",
    "\n",
    "- **Overfitting**: The model may be overfitting on the training data and therefore may not generalize well to unseen test data.\n",
    "\n",
    "- **Insufficient data**: The dataset may be too small to support the complexity of the model, and thus the model is not able to learn the underlying patterns of the data.\n",
    "\n",
    "- **Poorly chosen parameter grid**: The parameters searched in the grid search may not be the best for the specific dataset and problem.\n",
    "\n",
    "- **Correlated features**: The features used in the model may be correlated with each other, this could lead to poor generalization as the model would be based on redundant information."
   ]
  },
  {
   "attachments": {},
   "cell_type": "markdown",
   "metadata": {},
   "source": [
    "#### Random Forest:\n",
    " A random forest is an ensemble of decision trees. The idea is to average the predictions of many trees to reduce the variance and increase the accuracy of the model."
   ]
  },
  {
   "cell_type": "code",
   "execution_count": 203,
   "metadata": {},
   "outputs": [],
   "source": [
    "from sklearn.ensemble import RandomForestClassifier\n",
    "# instantiate the model\n",
    "rf = RandomForestClassifier()\n",
    "\n",
    "# fit the model on the training data\n",
    "rf.fit(X_train, Y_train)\n",
    "# make predictions on the test data\n",
    "Y_pred = rf.predict(X_test)\n"
   ]
  },
  {
   "cell_type": "code",
   "execution_count": 204,
   "metadata": {},
   "outputs": [
    {
     "data": {
      "image/png": "[encoded data removed]",
      "text/plain": [
       "<Figure size 288x288 with 2 Axes>"
      ]
     },
     "metadata": {
      "needs_background": "light"
     },
     "output_type": "display_data"
    }
   ],
   "source": [
    "plot_confusion_matrix(Y_test, Y_pred)\n"
   ]
  },
  {
   "cell_type": "code",
   "execution_count": 205,
   "metadata": {},
   "outputs": [
    {
     "name": "stdout",
     "output_type": "stream",
     "text": [
      "Accuracy: 0.8265858410911453\n",
      "Precision: 0.8183556405353728\n",
      "Recall: 0.802625410220347\n",
      "F1 Score: 0.810414201183432\n"
     ]
    }
   ],
   "source": [
    "acc, prec, rec, f1 = evaluate_model(Y_test, Y_pred)\n",
    "print(\"Accuracy:\", acc)\n",
    "print(\"Precision:\", prec)\n",
    "print(\"Recall:\", rec)\n",
    "print(\"F1 Score:\", f1)\n"
   ]
  },
  {
   "attachments": {},
   "cell_type": "markdown",
   "metadata": {},
   "source": [
    "#### Neural network: \n",
    "Neural networks are a type of machine learning model that are inspired by the structure and function of the human brain. They can be used for a wide range of problems, including classification and regression."
   ]
  },
  {
   "cell_type": "code",
   "execution_count": null,
   "metadata": {},
   "outputs": [],
   "source": [
    "from keras.models import Sequential\n",
    "from keras.layers import Dense\n"
   ]
  },
  {
   "cell_type": "code",
   "execution_count": null,
   "metadata": {},
   "outputs": [],
   "source": [
    "# Create the model\n",
    "model = Sequential()\n",
    "model.add(Dense(units=64, activation='relu', input_shape=(X_train.shape[1],)))\n",
    "model.add(Dense(units=32, activation='relu'))\n",
    "model.add(Dense(units=1, activation='sigmoid'))\n"
   ]
  },
  {
   "cell_type": "code",
   "execution_count": 208,
   "metadata": {},
   "outputs": [],
   "source": [
    "# Compile the model\n",
    "model.compile(optimizer='adam', loss='binary_crossentropy',\n",
    "              metrics=['accuracy'])\n"
   ]
  },
  {
   "cell_type": "code",
   "execution_count": 209,
   "metadata": {},
   "outputs": [
    {
     "name": "stdout",
     "output_type": "stream",
     "text": [
      "Epoch 1/10\n",
      "578/578 [==============================] - 3s 4ms/step - loss: 0.6715 - accuracy: 0.6648 - val_loss: 0.5713 - val_accuracy: 0.7140\n",
      "Epoch 2/10\n",
      "578/578 [==============================] - 2s 3ms/step - loss: 0.5786 - accuracy: 0.7006 - val_loss: 0.5951 - val_accuracy: 0.6908\n",
      "Epoch 3/10\n",
      "578/578 [==============================] - 2s 4ms/step - loss: 0.5669 - accuracy: 0.7129 - val_loss: 0.5585 - val_accuracy: 0.7287\n",
      "Epoch 4/10\n",
      "578/578 [==============================] - 2s 3ms/step - loss: 0.5535 - accuracy: 0.7190 - val_loss: 0.5419 - val_accuracy: 0.7276\n",
      "Epoch 5/10\n",
      "578/578 [==============================] - 2s 3ms/step - loss: 0.5525 - accuracy: 0.7216 - val_loss: 0.5475 - val_accuracy: 0.7357\n",
      "Epoch 6/10\n",
      "578/578 [==============================] - 2s 3ms/step - loss: 0.5442 - accuracy: 0.7236 - val_loss: 0.5477 - val_accuracy: 0.7307\n",
      "Epoch 7/10\n",
      "578/578 [==============================] - 2s 3ms/step - loss: 0.5447 - accuracy: 0.7245 - val_loss: 0.5535 - val_accuracy: 0.7164\n",
      "Epoch 8/10\n",
      "578/578 [==============================] - 2s 3ms/step - loss: 0.5420 - accuracy: 0.7286 - val_loss: 0.5292 - val_accuracy: 0.7400\n",
      "Epoch 9/10\n",
      "578/578 [==============================] - 2s 3ms/step - loss: 0.5385 - accuracy: 0.7263 - val_loss: 0.5978 - val_accuracy: 0.7190\n",
      "Epoch 10/10\n",
      "578/578 [==============================] - 2s 3ms/step - loss: 0.5380 - accuracy: 0.7302 - val_loss: 0.5380 - val_accuracy: 0.7268\n"
     ]
    }
   ],
   "source": [
    "# fit the model to the training data\n",
    "history = model.fit(X_train, Y_train, epochs=10,\n",
    "                    batch_size=32, validation_data=(X_test, Y_test))\n"
   ]
  },
  {
   "cell_type": "code",
   "execution_count": 210,
   "metadata": {},
   "outputs": [
    {
     "name": "stdout",
     "output_type": "stream",
     "text": [
      "145/145 [==============================] - 0s 3ms/step - loss: 0.5380 - accuracy: 0.7268\n",
      "Test accuracy: 0.7267807126045227\n"
     ]
    }
   ],
   "source": [
    "# evaluate the model's performance on the test data\n",
    "test_loss, test_acc = model.evaluate(X_test, Y_test)\n",
    "print('Test accuracy:', test_acc)\n"
   ]
  },
  {
   "cell_type": "code",
   "execution_count": 211,
   "metadata": {},
   "outputs": [],
   "source": [
    "import matplotlib.pyplot as plt\n",
    "from sklearn.metrics import confusion_matrix\n",
    "\n",
    "\n",
    "def plot_confusion_matrix_nn(model, X_test, Y_test):\n",
    "    Y_pred = model.predict(X_test)\n",
    "    Y_pred = (Y_pred > 0.5)  # threshold of 0.5 for binary classification\n",
    "    conf_matrix = confusion_matrix(Y_test, Y_pred)\n",
    "\n",
    "    plt.imshow(conf_matrix, cmap=plt.cm.Blues)\n",
    "    plt.title(\"Confusion Matrix\")\n",
    "    plt.xlabel(\"Predicted\")\n",
    "    plt.ylabel(\"Actual\")\n",
    "    plt.xticks([0, 1], [\"Negative\", \"Positive\"])\n",
    "    plt.yticks([0, 1], [\"Negative\", \"Positive\"])\n",
    "    plt.colorbar()\n",
    "    for i in range(conf_matrix.shape[0]):\n",
    "        for j in range(conf_matrix.shape[1]):\n",
    "            plt.text(j, i, conf_matrix[i, j],\n",
    "                     ha=\"center\", va=\"center\", color=\"w\")\n",
    "    plt.show()\n"
   ]
  },
  {
   "cell_type": "code",
   "execution_count": 213,
   "metadata": {},
   "outputs": [
    {
     "name": "stdout",
     "output_type": "stream",
     "text": [
      "145/145 [==============================] - 1s 3ms/step\n"
     ]
    },
    {
     "data": {
      "image/png": "[encoded data removed]",
      "text/plain": [
       "<Figure size 432x288 with 2 Axes>"
      ]
     },
     "metadata": {
      "needs_background": "light"
     },
     "output_type": "display_data"
    }
   ],
   "source": [
    "plot_confusion_matrix_nn(model, X_test, Y_test)\n"
   ]
  },
  {
   "cell_type": "code",
   "execution_count": 214,
   "metadata": {},
   "outputs": [],
   "source": [
    "from sklearn.metrics import accuracy_score, precision_score, recall_score, f1_score\n",
    "\n",
    "\n",
    "def evaluate_model_nn(model, X_test, Y_test):\n",
    "    Y_pred = model.predict(X_test)\n",
    "    Y_pred = (Y_pred > 0.5)  # threshold of 0.5 for binary classification\n",
    "    accuracy = accuracy_score(Y_test, Y_pred)\n",
    "    precision = precision_score(Y_test, Y_pred)\n",
    "    recall = recall_score(Y_test, Y_pred)\n",
    "    f1 = f1_score(Y_test, Y_pred)\n",
    "    print(\"Accuracy: {:.2f}\".format(accuracy))\n",
    "    print(\"Precision: {:.2f}\".format(precision))\n",
    "    print(\"Recall: {:.2f}\".format(recall))\n",
    "    print(\"F1 Score: {:.2f}\".format(f1))\n"
   ]
  },
  {
   "cell_type": "code",
   "execution_count": 215,
   "metadata": {},
   "outputs": [
    {
     "name": "stdout",
     "output_type": "stream",
     "text": [
      "145/145 [==============================] - 0s 2ms/step\n",
      "Accuracy: 0.73\n",
      "Precision: 0.77\n",
      "Recall: 0.58\n",
      "F1 Score: 0.66\n"
     ]
    }
   ],
   "source": [
    "evaluate_model_nn(model, X_test, Y_test)\n"
   ]
  },
  {
   "attachments": {},
   "cell_type": "markdown",
   "metadata": {},
   "source": [
    "#### Gradient Boosting machine :\n",
    " Gradient Boosting is a machine learning technique for regression and classification problems, which produces a prediction model in the form of an ensemble of weak prediction models, typically decision trees."
   ]
  },
  {
   "cell_type": "code",
   "execution_count": 234,
   "metadata": {},
   "outputs": [],
   "source": [
    "from sklearn.preprocessing import OneHotEncoder\n",
    "onehot_encoder = OneHotEncoder(handle_unknown='ignore')\n",
    "X_train_encoded = onehot_encoder.fit_transform(X_train)\n",
    "X_test_encoded = onehot_encoder.transform(X_test)\n"
   ]
  },
  {
   "cell_type": "code",
   "execution_count": 235,
   "metadata": {},
   "outputs": [],
   "source": [
    "from xgboost import XGBClassifier\n",
    "\n",
    "# Create the GBM model\n",
    "gbm = XGBClassifier()\n",
    "\n",
    "# Fit the model to the training data\n",
    "gbm.fit(X_train_encoded, Y_train)\n",
    "\n",
    "# Make predictions on the test data\n",
    "Y_pred = gbm.predict(X_test_encoded)\n"
   ]
  },
  {
   "cell_type": "code",
   "execution_count": 236,
   "metadata": {},
   "outputs": [],
   "source": [
    "from sklearn.metrics import accuracy_score, precision_score, recall_score, f1_score\n",
    "\n",
    "\n",
    "def evaluate_xgboost(model, X_test, Y_test):\n",
    "    Y_pred = model.predict(X_test)\n",
    "    accuracy = accuracy_score(Y_test, Y_pred)\n",
    "    precision = precision_score(Y_test, Y_pred)\n",
    "    recall = recall_score(Y_test, Y_pred)\n",
    "    f1 = f1_score(Y_test, Y_pred)\n",
    "    print(\"Accuracy: {:.2f}\".format(accuracy))\n",
    "    print(\"Precision: {:.2f}\".format(precision))\n",
    "    print(\"Recall: {:.2f}\".format(recall))\n",
    "    print(\"F1 Score: {:.2f}\".format(f1))\n"
   ]
  },
  {
   "cell_type": "code",
   "execution_count": 237,
   "metadata": {},
   "outputs": [
    {
     "name": "stdout",
     "output_type": "stream",
     "text": [
      "Accuracy: 0.81\n",
      "Precision: 0.85\n",
      "Recall: 0.71\n",
      "F1 Score: 0.77\n"
     ]
    }
   ],
   "source": [
    "evaluate_xgboost(gbm, X_test_encoded, Y_test)\n"
   ]
  },
  {
   "attachments": {},
   "cell_type": "markdown",
   "metadata": {},
   "source": [
    "##### We wanted to test if tuning the model would give better result but we didnt run this step here because it requires expensive processing power "
   ]
  },
  {
   "cell_type": "code",
   "execution_count": null,
   "metadata": {},
   "outputs": [],
   "source": [
    "from sklearn.model_selection import GridSearchCV\n",
    "\n",
    "# Define the parameter grid\n",
    "param_grid = {\n",
    "    'max_depth': [3, 5, 7],\n",
    "    'learning_rate': [0.1, 0.01, 0.001],\n",
    "    'n_estimators': [50, 100, 200],\n",
    "    'subsample': [0.6, 0.8, 1.0],\n",
    "    'colsample_bytree': [0.6, 0.8, 1.0],\n",
    "    'gamma': [0, 0.1, 0.2]\n",
    "}\n",
    "\n",
    "# Create the GridSearchCV object\n",
    "xgb_grid = GridSearchCV(gbm, param_grid, cv=5)\n",
    "\n",
    "# Fit the GridSearchCV object to the data\n",
    "xgb_grid.fit(X_train_encoded, Y_train)\n",
    "\n",
    "# Print the best parameters and the best score\n",
    "print(\"Best parameters: \", xgb_grid.best_params_)\n",
    "print(\"Best score: \", xgb_grid.best_score_)\n",
    "\n",
    "best_params = xgb_grid.best_params_\n",
    "best_score = xgb_grid.best_score_\n",
    "\n",
    "# Next, re-initialize the model using the best parameters\n",
    "xgb_best = XGBClassifier(**best_params)\n",
    "\n",
    "# Re-train the model on the entire training dataset\n",
    "xgb_best.fit(X_train, Y_train)\n",
    "\n",
    "# Make predictions on the test data\n",
    "Y_pred = xgb_best.predict(X_test)\n"
   ]
  },
  {
   "cell_type": "code",
   "execution_count": null,
   "metadata": {},
   "outputs": [],
   "source": [
    "evaluate_xgboost(xgb_best, X_test_encoded, Y_test)\n"
   ]
  },
  {
   "attachments": {},
   "cell_type": "markdown",
   "metadata": {},
   "source": [
    "#### Support Vector Machine: \n",
    "SVM is a supervised learning algorithm that can be used for classification or regression problems. It works by finding the optimal hyperplane that maximally separates the different classes of the target variable."
   ]
  },
  {
   "cell_type": "code",
   "execution_count": 240,
   "metadata": {},
   "outputs": [],
   "source": [
    "from sklearn.svm import SVC\n",
    "\n",
    "# Initialize the SVM model\n",
    "svm = SVC()\n",
    "\n",
    "# Fit the SVM model to the training data\n",
    "svm.fit(X_train, Y_train)\n",
    "\n",
    "# Make predictions on the test data\n",
    "Y_pred = svm.predict(X_test)\n"
   ]
  },
  {
   "cell_type": "code",
   "execution_count": 242,
   "metadata": {},
   "outputs": [
    {
     "data": {
      "image/png": "[encoded data removed]",
      "text/plain": [
       "<Figure size 288x288 with 2 Axes>"
      ]
     },
     "metadata": {
      "needs_background": "light"
     },
     "output_type": "display_data"
    }
   ],
   "source": [
    "def plot_confusion_matrix(y_true, y_pred):\n",
    "    conf_matrix = confusion_matrix(y_true, y_pred)\n",
    "    plt.figure(figsize=(4, 4))\n",
    "    sns.heatmap(conf_matrix, annot=True, cmap='Blues', fmt='g')\n",
    "    plt.ylabel('True label')\n",
    "    plt.xlabel('Predicted label')\n",
    "\n",
    "\n",
    "plot_confusion_matrix(Y_test, Y_pred)\n"
   ]
  },
  {
   "cell_type": "code",
   "execution_count": 241,
   "metadata": {},
   "outputs": [
    {
     "name": "stdout",
     "output_type": "stream",
     "text": [
      "Accuracy: 0.6997185537995237\n",
      "Precision: 0.8072487644151565\n",
      "Recall: 0.45944678856071264\n",
      "F1 Score: 0.5855990439199283\n"
     ]
    }
   ],
   "source": [
    "acc, prec, rec, f1 = evaluate_model(Y_test, Y_pred)\n",
    "print(\"Accuracy:\", acc)\n",
    "print(\"Precision:\", prec)\n",
    "print(\"Recall:\", rec)\n",
    "print(\"F1 Score:\", f1)\n"
   ]
  },
  {
   "cell_type": "code",
   "execution_count": 243,
   "metadata": {},
   "outputs": [],
   "source": [
    "### \n",
    "#TODO : We already tried doing MDLPC using an entropy based approach\n",
    "#TODO : We need to try doing MDLPC using a Gini based approach or Chi-squared MDLPC\n"
   ]
  },
  {
   "cell_type": "code",
   "execution_count": null,
   "metadata": {},
   "outputs": [],
   "source": []
  }
 ],
 "metadata": {
  "kernelspec": {
   "display_name": "Python 3",
   "language": "python",
   "name": "python3"
  },
  "language_info": {
   "codemirror_mode": {
    "name": "ipython",
    "version": 3
   },
   "file_extension": ".py",
   "mimetype": "text/x-python",
   "name": "python",
   "nbconvert_exporter": "python",
   "pygments_lexer": "ipython3",
   "version": "3.10.6 (main, Nov 14 2022, 16:10:14) [GCC 11.3.0]"
  },
  "orig_nbformat": 4,
  "vscode": {
   "interpreter": {
    "hash": "916dbcbb3f70747c44a77c7bcd40155683ae19c65e1c03b4aa3499c5328201f1"
   }
  }
 },
 "nbformat": 4,
 "nbformat_minor": 2
}
