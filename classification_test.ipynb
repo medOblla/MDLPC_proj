{
 "cells": [
  {
   "cell_type": "code",
   "execution_count": 87,
   "metadata": {},
   "outputs": [],
   "source": [
    "import pandas as pd\n",
    "import numpy as np\n",
    "import matplotlib.pyplot as plt\n"
   ]
  },
  {
   "cell_type": "code",
   "execution_count": 88,
   "metadata": {},
   "outputs": [
    {
     "name": "stdout",
     "output_type": "stream",
     "text": [
      "Y\n",
      "Displ       12782\n",
      "No_Displ    13000\n",
      "dtype: int64\n"
     ]
    },
    {
     "data": {
      "text/html": [
       "<div>\n",
       "<style scoped>\n",
       "    .dataframe tbody tr th:only-of-type {\n",
       "        vertical-align: middle;\n",
       "    }\n",
       "\n",
       "    .dataframe tbody tr th {\n",
       "        vertical-align: top;\n",
       "    }\n",
       "\n",
       "    .dataframe thead th {\n",
       "        text-align: right;\n",
       "    }\n",
       "</style>\n",
       "<table border=\"1\" class=\"dataframe\">\n",
       "  <thead>\n",
       "    <tr style=\"text-align: right;\">\n",
       "      <th></th>\n",
       "      <th>Y</th>\n",
       "      <th>cor_sales_in_vol</th>\n",
       "      <th>cor_sales_in_val</th>\n",
       "      <th>CA_mag</th>\n",
       "      <th>value</th>\n",
       "      <th>ENSEIGNE</th>\n",
       "      <th>VenteConv</th>\n",
       "      <th>Feature</th>\n",
       "    </tr>\n",
       "  </thead>\n",
       "  <tbody>\n",
       "    <tr>\n",
       "      <th>1</th>\n",
       "      <td>No_Displ</td>\n",
       "      <td>2</td>\n",
       "      <td>20.2</td>\n",
       "      <td>47400</td>\n",
       "      <td>36</td>\n",
       "      <td>CORA</td>\n",
       "      <td>72</td>\n",
       "      <td>No_Feat</td>\n",
       "    </tr>\n",
       "    <tr>\n",
       "      <th>2</th>\n",
       "      <td>No_Displ</td>\n",
       "      <td>2</td>\n",
       "      <td>11.9</td>\n",
       "      <td>62000</td>\n",
       "      <td>24</td>\n",
       "      <td>LECLERC</td>\n",
       "      <td>48</td>\n",
       "      <td>No_Feat</td>\n",
       "    </tr>\n",
       "    <tr>\n",
       "      <th>3</th>\n",
       "      <td>No_Displ</td>\n",
       "      <td>8</td>\n",
       "      <td>29.52</td>\n",
       "      <td>60661</td>\n",
       "      <td>60</td>\n",
       "      <td>AUCHAN</td>\n",
       "      <td>480</td>\n",
       "      <td>No_Feat</td>\n",
       "    </tr>\n",
       "    <tr>\n",
       "      <th>4</th>\n",
       "      <td>No_Displ</td>\n",
       "      <td>2</td>\n",
       "      <td>16.2</td>\n",
       "      <td>59677</td>\n",
       "      <td>19</td>\n",
       "      <td>CARREFOUR</td>\n",
       "      <td>38</td>\n",
       "      <td>No_Feat</td>\n",
       "    </tr>\n",
       "    <tr>\n",
       "      <th>5</th>\n",
       "      <td>No_Displ</td>\n",
       "      <td>5</td>\n",
       "      <td>62.1</td>\n",
       "      <td>142602</td>\n",
       "      <td>50</td>\n",
       "      <td>CORA</td>\n",
       "      <td>250</td>\n",
       "      <td>No_Feat</td>\n",
       "    </tr>\n",
       "  </tbody>\n",
       "</table>\n",
       "</div>"
      ],
      "text/plain": [
       "          Y cor_sales_in_vol cor_sales_in_val  CA_mag value   ENSEIGNE  \\\n",
       "1  No_Displ                2             20.2   47400    36       CORA   \n",
       "2  No_Displ                2             11.9   62000    24    LECLERC   \n",
       "3  No_Displ                8            29.52   60661    60     AUCHAN   \n",
       "4  No_Displ                2             16.2   59677    19  CARREFOUR   \n",
       "5  No_Displ                5             62.1  142602    50       CORA   \n",
       "\n",
       "  VenteConv  Feature  \n",
       "1        72  No_Feat  \n",
       "2        48  No_Feat  \n",
       "3       480  No_Feat  \n",
       "4        38  No_Feat  \n",
       "5       250  No_Feat  "
      ]
     },
     "execution_count": 88,
     "metadata": {},
     "output_type": "execute_result"
    }
   ],
   "source": [
    "df = pd.read_csv('./new_Base_CDM_balanced_V2.csv', sep=';')\n",
    "\n",
    "# rename the columns\n",
    "df.rename(columns={'X1': 'cor_sales_in_vol',\n",
    "          'X2': 'cor_sales_in_val', 'X3': 'CA_mag', 'X4': 'value', 'X5': 'ENSEIGNE',\n",
    "                   'X6': 'VenteConv', 'X7': 'Feature'}, inplace=True)\n",
    "# remove the first row\n",
    "df = df.iloc[1:]\n",
    "\n",
    "print(df.groupby('Y').size())\n",
    "df.head()\n"
   ]
  },
  {
   "cell_type": "code",
   "execution_count": 89,
   "metadata": {},
   "outputs": [],
   "source": [
    "# write a function that takes a list of features and parses their values into floats\n",
    "def parse_features(features):\n",
    "    for feature in features:\n",
    "        df[feature] = df[feature].str.replace(',', '.').astype(float)\n",
    "    return df"
   ]
  },
  {
   "cell_type": "code",
   "execution_count": 90,
   "metadata": {},
   "outputs": [],
   "source": [
    "numerical_features = [\"cor_sales_in_vol\", \"cor_sales_in_val\",\n",
    "                      \"CA_mag\", \"value\", \"VenteConv\"]\n",
    "categorical_features = [\"ENSEIGNE\", \"Feature\"]\n"
   ]
  },
  {
   "cell_type": "code",
   "execution_count": 91,
   "metadata": {},
   "outputs": [
    {
     "data": {
      "text/html": [
       "<div>\n",
       "<style scoped>\n",
       "    .dataframe tbody tr th:only-of-type {\n",
       "        vertical-align: middle;\n",
       "    }\n",
       "\n",
       "    .dataframe tbody tr th {\n",
       "        vertical-align: top;\n",
       "    }\n",
       "\n",
       "    .dataframe thead th {\n",
       "        text-align: right;\n",
       "    }\n",
       "</style>\n",
       "<table border=\"1\" class=\"dataframe\">\n",
       "  <thead>\n",
       "    <tr style=\"text-align: right;\">\n",
       "      <th></th>\n",
       "      <th>Y</th>\n",
       "      <th>cor_sales_in_vol</th>\n",
       "      <th>cor_sales_in_val</th>\n",
       "      <th>CA_mag</th>\n",
       "      <th>value</th>\n",
       "      <th>ENSEIGNE</th>\n",
       "      <th>VenteConv</th>\n",
       "      <th>Feature</th>\n",
       "    </tr>\n",
       "  </thead>\n",
       "  <tbody>\n",
       "    <tr>\n",
       "      <th>1</th>\n",
       "      <td>No_Displ</td>\n",
       "      <td>2.0</td>\n",
       "      <td>20.20</td>\n",
       "      <td>47400.0</td>\n",
       "      <td>36.0</td>\n",
       "      <td>CORA</td>\n",
       "      <td>72.0</td>\n",
       "      <td>No_Feat</td>\n",
       "    </tr>\n",
       "    <tr>\n",
       "      <th>2</th>\n",
       "      <td>No_Displ</td>\n",
       "      <td>2.0</td>\n",
       "      <td>11.90</td>\n",
       "      <td>62000.0</td>\n",
       "      <td>24.0</td>\n",
       "      <td>LECLERC</td>\n",
       "      <td>48.0</td>\n",
       "      <td>No_Feat</td>\n",
       "    </tr>\n",
       "    <tr>\n",
       "      <th>3</th>\n",
       "      <td>No_Displ</td>\n",
       "      <td>8.0</td>\n",
       "      <td>29.52</td>\n",
       "      <td>60661.0</td>\n",
       "      <td>60.0</td>\n",
       "      <td>AUCHAN</td>\n",
       "      <td>480.0</td>\n",
       "      <td>No_Feat</td>\n",
       "    </tr>\n",
       "    <tr>\n",
       "      <th>4</th>\n",
       "      <td>No_Displ</td>\n",
       "      <td>2.0</td>\n",
       "      <td>16.20</td>\n",
       "      <td>59677.0</td>\n",
       "      <td>19.0</td>\n",
       "      <td>CARREFOUR</td>\n",
       "      <td>38.0</td>\n",
       "      <td>No_Feat</td>\n",
       "    </tr>\n",
       "    <tr>\n",
       "      <th>5</th>\n",
       "      <td>No_Displ</td>\n",
       "      <td>5.0</td>\n",
       "      <td>62.10</td>\n",
       "      <td>142602.0</td>\n",
       "      <td>50.0</td>\n",
       "      <td>CORA</td>\n",
       "      <td>250.0</td>\n",
       "      <td>No_Feat</td>\n",
       "    </tr>\n",
       "  </tbody>\n",
       "</table>\n",
       "</div>"
      ],
      "text/plain": [
       "          Y  cor_sales_in_vol  cor_sales_in_val    CA_mag  value   ENSEIGNE  \\\n",
       "1  No_Displ               2.0             20.20   47400.0   36.0       CORA   \n",
       "2  No_Displ               2.0             11.90   62000.0   24.0    LECLERC   \n",
       "3  No_Displ               8.0             29.52   60661.0   60.0     AUCHAN   \n",
       "4  No_Displ               2.0             16.20   59677.0   19.0  CARREFOUR   \n",
       "5  No_Displ               5.0             62.10  142602.0   50.0       CORA   \n",
       "\n",
       "   VenteConv  Feature  \n",
       "1       72.0  No_Feat  \n",
       "2       48.0  No_Feat  \n",
       "3      480.0  No_Feat  \n",
       "4       38.0  No_Feat  \n",
       "5      250.0  No_Feat  "
      ]
     },
     "execution_count": 91,
     "metadata": {},
     "output_type": "execute_result"
    }
   ],
   "source": [
    "nums = parse_features(numerical_features)\n",
    "df = nums\n",
    "df.head()"
   ]
  },
  {
   "cell_type": "code",
   "execution_count": 93,
   "metadata": {},
   "outputs": [],
   "source": [
    "# write a function to look for missing values\n",
    "def missing_values_table(df):\n",
    "    # Total missing values\n",
    "    mis_val = df.isnull().sum()\n",
    "\n",
    "    # Percentage of missing values\n",
    "    mis_val_percent = 100 * df.isnull().sum() / len(df)\n",
    "\n",
    "    # Make a table with the results\n",
    "    mis_val_table = pd.concat([mis_val, mis_val_percent], axis=1)\n",
    "\n",
    "    # Rename the columns\n",
    "    mis_val_table_ren_columns = mis_val_table.rename(\n",
    "        columns={0: 'Missing Values', 1: '% of Total Values'})\n",
    "\n",
    "    # Sort the table by percentage of missing descending\n",
    "    mis_val_table_ren_columns = mis_val_table_ren_columns[\n",
    "        mis_val_table_ren_columns.iloc[:, 1] != 0].sort_values(\n",
    "        '% of Total Values', ascending=False).round(1)\n",
    "\n",
    "    # Print some summary information\n",
    "    print(\"Your selected dataframe has \" + str(df.shape[1]) + \" columns.\\n\"\n",
    "                                                              \"There are \" + str(mis_val_table_ren_columns.shape[0]) +\n",
    "          \" columns that have missing values.\")\n",
    "\n",
    "    # Return the dataframe with missing information\n",
    "    return mis_val_table_ren_columns\n",
    "\n",
    "\n",
    "missing_values_table(df)\n"
   ]
  },
  {
   "cell_type": "code",
   "execution_count": 94,
   "metadata": {},
   "outputs": [
    {
     "name": "stdout",
     "output_type": "stream",
     "text": [
      "Your selected dataframe has 8 columns.\n",
      "There are 0 columns that have missing values.\n"
     ]
    },
    {
     "data": {
      "text/html": [
       "<div>\n",
       "<style scoped>\n",
       "    .dataframe tbody tr th:only-of-type {\n",
       "        vertical-align: middle;\n",
       "    }\n",
       "\n",
       "    .dataframe tbody tr th {\n",
       "        vertical-align: top;\n",
       "    }\n",
       "\n",
       "    .dataframe thead th {\n",
       "        text-align: right;\n",
       "    }\n",
       "</style>\n",
       "<table border=\"1\" class=\"dataframe\">\n",
       "  <thead>\n",
       "    <tr style=\"text-align: right;\">\n",
       "      <th></th>\n",
       "      <th>Missing Values</th>\n",
       "      <th>% of Total Values</th>\n",
       "    </tr>\n",
       "  </thead>\n",
       "  <tbody>\n",
       "  </tbody>\n",
       "</table>\n",
       "</div>"
      ],
      "text/plain": [
       "Empty DataFrame\n",
       "Columns: [Missing Values, % of Total Values]\n",
       "Index: []"
      ]
     },
     "execution_count": 94,
     "metadata": {},
     "output_type": "execute_result"
    }
   ],
   "source": []
  },
  {
   "cell_type": "code",
   "execution_count": 95,
   "metadata": {},
   "outputs": [],
   "source": [
    "# write function to plot side by side scatter plots of the features\n",
    "def plot_scatter(df, features):\n",
    "    for feature in features:\n",
    "        df.plot.scatter(feature, 'Y', figsize=(5, 5))\n",
    "        plt.show()"
   ]
  },
  {
   "cell_type": "code",
   "execution_count": 96,
   "metadata": {},
   "outputs": [
    {
     "data": {
      "image/png": "[encoded data removed]",
      "text/plain": [
       "<Figure size 360x360 with 1 Axes>"
      ]
     },
     "metadata": {
      "needs_background": "light"
     },
     "output_type": "display_data"
    },
    {
     "data": {
      "image/png": "[encoded data removed]",
      "text/plain": [
       "<Figure size 360x360 with 1 Axes>"
      ]
     },
     "metadata": {
      "needs_background": "light"
     },
     "output_type": "display_data"
    },
    {
     "data": {
      "image/png": "[encoded data removed]",
      "text/plain": [
       "<Figure size 360x360 with 1 Axes>"
      ]
     },
     "metadata": {
      "needs_background": "light"
     },
     "output_type": "display_data"
    },
    {
     "data": {
      "image/png": "[encoded data removed]",
      "text/plain": [
       "<Figure size 360x360 with 1 Axes>"
      ]
     },
     "metadata": {
      "needs_background": "light"
     },
     "output_type": "display_data"
    },
    {
     "data": {
      "image/png": "[encoded data removed]",
      "text/plain": [
       "<Figure size 360x360 with 1 Axes>"
      ]
     },
     "metadata": {
      "needs_background": "light"
     },
     "output_type": "display_data"
    }
   ],
   "source": [
    "plot_scatter(df, numerical_features)\n"
   ]
  },
  {
   "cell_type": "code",
   "execution_count": 97,
   "metadata": {},
   "outputs": [],
   "source": [
    "# write a function that deletes data points outside 3 standart deviations of the mean\n",
    "def delete_outliers(df, features):\n",
    "    for feature in features:\n",
    "        mean = df[feature].mean()\n",
    "        std = df[feature].std()\n",
    "        df = df[(df[feature] > mean - 3 * std) & (df[feature] < mean + 3 * std)]\n",
    "    return df\n",
    "\n",
    "\n",
    "df = delete_outliers(df, numerical_features)\n"
   ]
  },
  {
   "cell_type": "code",
   "execution_count": 98,
   "metadata": {},
   "outputs": [],
   "source": []
  },
  {
   "cell_type": "code",
   "execution_count": 99,
   "metadata": {},
   "outputs": [
    {
     "data": {
      "image/png": "[encoded data removed]",
      "text/plain": [
       "<Figure size 360x360 with 1 Axes>"
      ]
     },
     "metadata": {
      "needs_background": "light"
     },
     "output_type": "display_data"
    },
    {
     "data": {
      "image/png": "[encoded data removed]",
      "text/plain": [
       "<Figure size 360x360 with 1 Axes>"
      ]
     },
     "metadata": {
      "needs_background": "light"
     },
     "output_type": "display_data"
    },
    {
     "data": {
      "image/png": "[encoded data removed]",
      "text/plain": [
       "<Figure size 360x360 with 1 Axes>"
      ]
     },
     "metadata": {
      "needs_background": "light"
     },
     "output_type": "display_data"
    },
    {
     "data": {
      "image/png": "[encoded data removed]",
      "text/plain": [
       "<Figure size 360x360 with 1 Axes>"
      ]
     },
     "metadata": {
      "needs_background": "light"
     },
     "output_type": "display_data"
    },
    {
     "data": {
      "image/png": "[encoded data removed]",
      "text/plain": [
       "<Figure size 360x360 with 1 Axes>"
      ]
     },
     "metadata": {
      "needs_background": "light"
     },
     "output_type": "display_data"
    }
   ],
   "source": [
    "plot_scatter(df, numerical_features)\n"
   ]
  },
  {
   "cell_type": "code",
   "execution_count": 100,
   "metadata": {},
   "outputs": [],
   "source": [
    "# write a function that Scale the continuous variables so that they are on the same scale\n",
    "def scale_features(df, features):\n",
    "    for feature in features:\n",
    "        df[feature] = (df[feature] - df[feature].mean()) / df[feature].std()\n",
    "    return df\n",
    "\n",
    "\n",
    "# scaling the values\n",
    "df = scale_features(df, numerical_features)\n"
   ]
  },
  {
   "cell_type": "code",
   "execution_count": 102,
   "metadata": {},
   "outputs": [],
   "source": [
    "# write a function to label encode the target variable (Y) if its value == 'No_Displ' then 0 else 1\n",
    "def label_encode(df):\n",
    "    df['Y'] = np.where(df['Y'] == 'No_Displ', 0, 1)\n",
    "    return df\n",
    "\n",
    "\n",
    "label_encode(df)"
   ]
  },
  {
   "cell_type": "code",
   "execution_count": 112,
   "metadata": {},
   "outputs": [],
   "source": [
    "mean_target_by_enseigne = df.groupby('ENSEIGNE')['Y'].mean()\n",
    "df['ENSEIGNE'] = df['ENSEIGNE'].map(mean_target_by_enseigne)\n",
    "df.head()\n"
   ]
  },
  {
   "cell_type": "code",
   "execution_count": 114,
   "metadata": {},
   "outputs": [
    {
     "data": {
      "text/html": [
       "<div>\n",
       "<style scoped>\n",
       "    .dataframe tbody tr th:only-of-type {\n",
       "        vertical-align: middle;\n",
       "    }\n",
       "\n",
       "    .dataframe tbody tr th {\n",
       "        vertical-align: top;\n",
       "    }\n",
       "\n",
       "    .dataframe thead th {\n",
       "        text-align: right;\n",
       "    }\n",
       "</style>\n",
       "<table border=\"1\" class=\"dataframe\">\n",
       "  <thead>\n",
       "    <tr style=\"text-align: right;\">\n",
       "      <th></th>\n",
       "      <th>Y</th>\n",
       "      <th>cor_sales_in_vol</th>\n",
       "      <th>cor_sales_in_val</th>\n",
       "      <th>CA_mag</th>\n",
       "      <th>value</th>\n",
       "      <th>ENSEIGNE</th>\n",
       "      <th>VenteConv</th>\n",
       "      <th>Feature</th>\n",
       "    </tr>\n",
       "  </thead>\n",
       "  <tbody>\n",
       "    <tr>\n",
       "      <th>1</th>\n",
       "      <td>0</td>\n",
       "      <td>-0.523155</td>\n",
       "      <td>-0.458692</td>\n",
       "      <td>-0.201180</td>\n",
       "      <td>0.146677</td>\n",
       "      <td>0.338037</td>\n",
       "      <td>-0.507839</td>\n",
       "      <td>0</td>\n",
       "    </tr>\n",
       "    <tr>\n",
       "      <th>2</th>\n",
       "      <td>0</td>\n",
       "      <td>-0.523155</td>\n",
       "      <td>-0.559977</td>\n",
       "      <td>0.125993</td>\n",
       "      <td>-0.648938</td>\n",
       "      <td>0.405287</td>\n",
       "      <td>-0.583034</td>\n",
       "      <td>0</td>\n",
       "    </tr>\n",
       "    <tr>\n",
       "      <th>3</th>\n",
       "      <td>0</td>\n",
       "      <td>0.105097</td>\n",
       "      <td>-0.344961</td>\n",
       "      <td>0.095987</td>\n",
       "      <td>1.737906</td>\n",
       "      <td>0.321567</td>\n",
       "      <td>0.770479</td>\n",
       "      <td>0</td>\n",
       "    </tr>\n",
       "    <tr>\n",
       "      <th>4</th>\n",
       "      <td>0</td>\n",
       "      <td>-0.523155</td>\n",
       "      <td>-0.507504</td>\n",
       "      <td>0.073937</td>\n",
       "      <td>-0.980444</td>\n",
       "      <td>0.429692</td>\n",
       "      <td>-0.614366</td>\n",
       "      <td>0</td>\n",
       "    </tr>\n",
       "    <tr>\n",
       "      <th>5</th>\n",
       "      <td>0</td>\n",
       "      <td>-0.209029</td>\n",
       "      <td>0.052610</td>\n",
       "      <td>1.932210</td>\n",
       "      <td>1.074894</td>\n",
       "      <td>0.338037</td>\n",
       "      <td>0.049859</td>\n",
       "      <td>0</td>\n",
       "    </tr>\n",
       "    <tr>\n",
       "      <th>...</th>\n",
       "      <td>...</td>\n",
       "      <td>...</td>\n",
       "      <td>...</td>\n",
       "      <td>...</td>\n",
       "      <td>...</td>\n",
       "      <td>...</td>\n",
       "      <td>...</td>\n",
       "      <td>...</td>\n",
       "    </tr>\n",
       "    <tr>\n",
       "      <th>25778</th>\n",
       "      <td>1</td>\n",
       "      <td>-0.627864</td>\n",
       "      <td>-0.574620</td>\n",
       "      <td>-1.172994</td>\n",
       "      <td>0.411882</td>\n",
       "      <td>0.478940</td>\n",
       "      <td>-0.608100</td>\n",
       "      <td>0</td>\n",
       "    </tr>\n",
       "    <tr>\n",
       "      <th>25779</th>\n",
       "      <td>1</td>\n",
       "      <td>-0.209029</td>\n",
       "      <td>-0.284801</td>\n",
       "      <td>-1.172994</td>\n",
       "      <td>0.080376</td>\n",
       "      <td>0.478940</td>\n",
       "      <td>-0.185126</td>\n",
       "      <td>0</td>\n",
       "    </tr>\n",
       "    <tr>\n",
       "      <th>25780</th>\n",
       "      <td>1</td>\n",
       "      <td>0.523932</td>\n",
       "      <td>0.292031</td>\n",
       "      <td>-1.172994</td>\n",
       "      <td>0.080376</td>\n",
       "      <td>0.478940</td>\n",
       "      <td>0.582491</td>\n",
       "      <td>0</td>\n",
       "    </tr>\n",
       "    <tr>\n",
       "      <th>25781</th>\n",
       "      <td>1</td>\n",
       "      <td>-0.209029</td>\n",
       "      <td>-0.342154</td>\n",
       "      <td>-1.172994</td>\n",
       "      <td>-0.648938</td>\n",
       "      <td>0.478940</td>\n",
       "      <td>-0.357449</td>\n",
       "      <td>0</td>\n",
       "    </tr>\n",
       "    <tr>\n",
       "      <th>25782</th>\n",
       "      <td>1</td>\n",
       "      <td>-0.209029</td>\n",
       "      <td>-0.067711</td>\n",
       "      <td>-1.172994</td>\n",
       "      <td>0.411882</td>\n",
       "      <td>0.478940</td>\n",
       "      <td>-0.106798</td>\n",
       "      <td>0</td>\n",
       "    </tr>\n",
       "  </tbody>\n",
       "</table>\n",
       "<p>23092 rows × 8 columns</p>\n",
       "</div>"
      ],
      "text/plain": [
       "       Y  cor_sales_in_vol  cor_sales_in_val    CA_mag     value  ENSEIGNE  \\\n",
       "1      0         -0.523155         -0.458692 -0.201180  0.146677  0.338037   \n",
       "2      0         -0.523155         -0.559977  0.125993 -0.648938  0.405287   \n",
       "3      0          0.105097         -0.344961  0.095987  1.737906  0.321567   \n",
       "4      0         -0.523155         -0.507504  0.073937 -0.980444  0.429692   \n",
       "5      0         -0.209029          0.052610  1.932210  1.074894  0.338037   \n",
       "...   ..               ...               ...       ...       ...       ...   \n",
       "25778  1         -0.627864         -0.574620 -1.172994  0.411882  0.478940   \n",
       "25779  1         -0.209029         -0.284801 -1.172994  0.080376  0.478940   \n",
       "25780  1          0.523932          0.292031 -1.172994  0.080376  0.478940   \n",
       "25781  1         -0.209029         -0.342154 -1.172994 -0.648938  0.478940   \n",
       "25782  1         -0.209029         -0.067711 -1.172994  0.411882  0.478940   \n",
       "\n",
       "       VenteConv  Feature  \n",
       "1      -0.507839        0  \n",
       "2      -0.583034        0  \n",
       "3       0.770479        0  \n",
       "4      -0.614366        0  \n",
       "5       0.049859        0  \n",
       "...          ...      ...  \n",
       "25778  -0.608100        0  \n",
       "25779  -0.185126        0  \n",
       "25780   0.582491        0  \n",
       "25781  -0.357449        0  \n",
       "25782  -0.106798        0  \n",
       "\n",
       "[23092 rows x 8 columns]"
      ]
     },
     "execution_count": 114,
     "metadata": {},
     "output_type": "execute_result"
    }
   ],
   "source": [
    "# write a function to label encode the target variable (Y) if its value == 'No_Displ' then 0 else 1\n",
    "def label_encode_Feature(df):\n",
    "    df['Feature'] = np.where(df['Feature'] == 'No_Feat', 0, 1)\n",
    "    return df\n",
    "\n",
    "\n",
    "label_encode_Feature(df)\n"
   ]
  },
  {
   "cell_type": "code",
   "execution_count": null,
   "metadata": {},
   "outputs": [],
   "source": [
    "# TODO : Entropy-based MDLPC:"
   ]
  }
 ],
 "metadata": {
  "kernelspec": {
   "display_name": "Python 3",
   "language": "python",
   "name": "python3"
  },
  "language_info": {
   "codemirror_mode": {
    "name": "ipython",
    "version": 3
   },
   "file_extension": ".py",
   "mimetype": "text/x-python",
   "name": "python",
   "nbconvert_exporter": "python",
   "pygments_lexer": "ipython3",
   "version": "3.10.6"
  },
  "orig_nbformat": 4,
  "vscode": {
   "interpreter": {
    "hash": "916dbcbb3f70747c44a77c7bcd40155683ae19c65e1c03b4aa3499c5328201f1"
   }
  }
 },
 "nbformat": 4,
 "nbformat_minor": 2
}
