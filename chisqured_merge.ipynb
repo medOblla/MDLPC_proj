{
 "cells": [
  {
   "cell_type": "code",
   "execution_count": 2,
   "metadata": {},
   "outputs": [],
   "source": [
    "import pandas as pd\n",
    "from collections import Counter\n",
    "import numpy as np\n",
    "import matplotlib.pyplot as plt\n",
    "from tabulate import tabulate\n",
    "import warnings\n",
    "warnings.filterwarnings('ignore')\n"
   ]
  },
  {
   "cell_type": "code",
   "execution_count": 6,
   "metadata": {},
   "outputs": [
    {
     "data": {
      "text/html": [
       "<div>\n",
       "<style scoped>\n",
       "    .dataframe tbody tr th:only-of-type {\n",
       "        vertical-align: middle;\n",
       "    }\n",
       "\n",
       "    .dataframe tbody tr th {\n",
       "        vertical-align: top;\n",
       "    }\n",
       "\n",
       "    .dataframe thead th {\n",
       "        text-align: right;\n",
       "    }\n",
       "</style>\n",
       "<table border=\"1\" class=\"dataframe\">\n",
       "  <thead>\n",
       "    <tr style=\"text-align: right;\">\n",
       "      <th></th>\n",
       "      <th>Y</th>\n",
       "      <th>cor_sales_in_vol</th>\n",
       "      <th>cor_sales_in_val</th>\n",
       "      <th>CA_mag</th>\n",
       "      <th>value</th>\n",
       "      <th>ENSEIGNE</th>\n",
       "      <th>VenteConv</th>\n",
       "      <th>Feature</th>\n",
       "    </tr>\n",
       "  </thead>\n",
       "  <tbody>\n",
       "    <tr>\n",
       "      <th>0</th>\n",
       "      <td>0</td>\n",
       "      <td>-0.709506</td>\n",
       "      <td>-0.502125</td>\n",
       "      <td>0.046351</td>\n",
       "      <td>0.341574</td>\n",
       "      <td>0.338037</td>\n",
       "      <td>-0.567069</td>\n",
       "      <td>0</td>\n",
       "    </tr>\n",
       "    <tr>\n",
       "      <th>1</th>\n",
       "      <td>0</td>\n",
       "      <td>-0.709506</td>\n",
       "      <td>-0.909596</td>\n",
       "      <td>0.417199</td>\n",
       "      <td>-0.640363</td>\n",
       "      <td>0.405287</td>\n",
       "      <td>-0.845462</td>\n",
       "      <td>0</td>\n",
       "    </tr>\n",
       "    <tr>\n",
       "      <th>2</th>\n",
       "      <td>0</td>\n",
       "      <td>0.837993</td>\n",
       "      <td>-0.110600</td>\n",
       "      <td>0.386840</td>\n",
       "      <td>1.573952</td>\n",
       "      <td>0.321567</td>\n",
       "      <td>1.369331</td>\n",
       "      <td>0</td>\n",
       "    </tr>\n",
       "    <tr>\n",
       "      <th>3</th>\n",
       "      <td>0</td>\n",
       "      <td>-0.709506</td>\n",
       "      <td>-0.691295</td>\n",
       "      <td>0.364106</td>\n",
       "      <td>-1.145545</td>\n",
       "      <td>0.429692</td>\n",
       "      <td>-0.969528</td>\n",
       "      <td>0</td>\n",
       "    </tr>\n",
       "    <tr>\n",
       "      <th>4</th>\n",
       "      <td>0</td>\n",
       "      <td>0.262648</td>\n",
       "      <td>0.794141</td>\n",
       "      <td>1.609802</td>\n",
       "      <td>1.128831</td>\n",
       "      <td>0.338037</td>\n",
       "      <td>0.763839</td>\n",
       "      <td>0</td>\n",
       "    </tr>\n",
       "  </tbody>\n",
       "</table>\n",
       "</div>"
      ],
      "text/plain": [
       "   Y  cor_sales_in_vol  cor_sales_in_val    CA_mag     value  ENSEIGNE  \\\n",
       "0  0         -0.709506         -0.502125  0.046351  0.341574  0.338037   \n",
       "1  0         -0.709506         -0.909596  0.417199 -0.640363  0.405287   \n",
       "2  0          0.837993         -0.110600  0.386840  1.573952  0.321567   \n",
       "3  0         -0.709506         -0.691295  0.364106 -1.145545  0.429692   \n",
       "4  0          0.262648          0.794141  1.609802  1.128831  0.338037   \n",
       "\n",
       "   VenteConv  Feature  \n",
       "0  -0.567069        0  \n",
       "1  -0.845462        0  \n",
       "2   1.369331        0  \n",
       "3  -0.969528        0  \n",
       "4   0.763839        0  "
      ]
     },
     "execution_count": 6,
     "metadata": {},
     "output_type": "execute_result"
    }
   ],
   "source": [
    "iris = pd.read_csv(\"normalized_processed.csv\")\n",
    "iris.head()"
   ]
  },
  {
   "cell_type": "code",
   "execution_count": 11,
   "metadata": {},
   "outputs": [
    {
     "data": {
      "text/plain": [
       "Index(['Y', 'cor_sales_in_vol', 'cor_sales_in_val', 'CA_mag', 'value',\n",
       "       'ENSEIGNE', 'VenteConv', 'Feature'],\n",
       "      dtype='object')"
      ]
     },
     "execution_count": 11,
     "metadata": {},
     "output_type": "execute_result"
    }
   ],
   "source": [
    "iris.columns"
   ]
  },
  {
   "cell_type": "code",
   "execution_count": 9,
   "metadata": {},
   "outputs": [],
   "source": [
    "class Discretization:\n",
    "    ''' A process that transforms quantitative data into qualitative data '''\n",
    "    \n",
    "    def __init__(cls):\n",
    "        print('Data discretization process started')\n",
    "        \n",
    "    def get_new_intervals(cls, intervals, chi, min_chi):\n",
    "        ''' To merge the interval based on minimum chi square value '''\n",
    "        \n",
    "        min_chi_index = np.where(chi == min_chi)[0][0]\n",
    "        new_intervals = []\n",
    "        skip = False\n",
    "        done = False\n",
    "        for i in range(len(intervals)):\n",
    "            if skip:\n",
    "                skip = False\n",
    "                continue\n",
    "            if i == min_chi_index and not done:\n",
    "                t = intervals[i] + intervals[i+1]\n",
    "                new_intervals.append([min(t), max(t)])\n",
    "                skip = True\n",
    "                done = True\n",
    "            else:\n",
    "                new_intervals.append(intervals[i])\n",
    "        return new_intervals        \n",
    "        \n",
    "    def get_chimerge_intervals(cls, data, colName, label, max_intervals):\n",
    "        '''\n",
    "            1. Compute the χ 2 value for each pair of adjacent intervals\n",
    "            2. Merge the pair of adjacent intervals with the lowest χ 2 value\n",
    "            3. Repeat œ and  until χ 2 values of all adjacent pairs exceeds a threshold\n",
    "        '''\n",
    "        \n",
    "        # Getting unique values of input column\n",
    "        distinct_vals = np.unique(data[colName])\n",
    "        \n",
    "        # Getting unique values of output column\n",
    "        labels = np.unique(data[label])\n",
    "        \n",
    "        # Initially set the value to zero for all unique output column values\n",
    "        empty_count = {l: 0 for l in labels}\n",
    "        min_chi = 0\n",
    "        intervals = [[distinct_vals[i], distinct_vals[i]] for i in range(len(distinct_vals))]\n",
    "        while len(intervals) > max_intervals:\n",
    "            chi = []\n",
    "            for i in range(len(intervals)-1):\n",
    "                \n",
    "                # Find chi square for Interval 1\n",
    "                row1 = data[data[colName].between(intervals[i][0], intervals[i][1])]\n",
    "                # Find chi square for Interval 2\n",
    "                row2 = data[data[colName].between(intervals[i+1][0], intervals[i+1][1])]\n",
    "                total = len(row1) + len(row2)\n",
    "                \n",
    "                # Generate Contigency\n",
    "                count_0 = np.array([v for i, v in {**empty_count, **Counter(row1[label])}.items()])\n",
    "                count_1 = np.array([v for i, v in {**empty_count, **Counter(row2[label])}.items()])\n",
    "                count_total = count_0 + count_1\n",
    "                \n",
    "                # Find the expected value by the following formula\n",
    "                # Expected Value → ( Row Sum * Column Sum ) / Total Sum\n",
    "                expected_0 = count_total*sum(count_0)/total\n",
    "                expected_1 = count_total*sum(count_1)/total\n",
    "                chi_ = (count_0 - expected_0)**2/expected_0 + (count_1 - expected_1)**2/expected_1\n",
    "                \n",
    "                # Store the chi value to find minimum chi value\n",
    "                chi_ = np.nan_to_num(chi_)\n",
    "                chi.append(sum(chi_))\n",
    "            min_chi = min(chi)\n",
    "            \n",
    "            intervals = cls.get_new_intervals(intervals, chi, min_chi)\n",
    "        print(' Min chi square value is ' + str(min_chi))\n",
    "        return intervals"
   ]
  },
  {
   "cell_type": "code",
   "execution_count": 14,
   "metadata": {},
   "outputs": [
    {
     "name": "stdout",
     "output_type": "stream",
     "text": [
      "Data discretization process started\n",
      "\n",
      " Interval for cor_sales_in_vol\n",
      " Min chi square value is 30.320704006065274\n",
      "╒════════════════════════════════════════════════════════════════════════════════════════════════════════════════════════════════════════════════════════════════════════════════════════════════════════════════════════════════════════════════════════════╕\n",
      "│ [[-1.1403646023581553, -0.6458719921714208], [-0.5759778561981855, 0.1824347354057059], [0.2626479647762573, 1.047701524801824], [1.072827439087331, 1.5129655587125952], [1.52597976021606, 1.9245737273099528], [1.933071071436924, 2.1672481957059224]] │\n",
      "╘════════════════════════════════════════════════════════════════════════════════════════════════════════════════════════════════════════════════════════════════════════════════════════════════════════════════════════════════════════════════════════════╛\n",
      "\n",
      " Interval for CA_mag\n",
      " Min chi square value is 46.307300789952535\n",
      "╒═══════════════════════════════════════════════════════════════════════════════════════════════════════════════════════════════════════════════════════════════════════════════════════════════════════════════════════════════════════════════════════════════╕\n",
      "│ [[-1.676745790510748, -1.5830032824942566], [-1.575001993040068, -1.5476558661734925], [-1.540658732611124, -0.0306149977060907], [-0.0182700205367058, 0.737840078971301], [0.7411507135518638, 1.003333230254125], [1.013620560348385, 2.2061420485038656]] │\n",
      "╘═══════════════════════════════════════════════════════════════════════════════════════════════════════════════════════════════════════════════════════════════════════════════════════════════════════════════════════════════════════════════════════════════╛\n",
      "\n",
      " Interval for value\n",
      " Min chi square value is 132.2675468613156\n",
      "╒═════════════════════════════════════════════════════════════════════════════════════════════════════════════════════════════════════════════════════════════════════════════════════════════════════════════════════════════════════════════════════════════════╕\n",
      "│ [[-3.3533949696101133, -1.4727161703677851], [-1.36172250230369, -1.1455446275934391], [-1.0404164172513235, -0.2747633240830067], [-0.1057277031943546, 0.3415736187248449], [0.4076610595064977, 1.9621157155619289], [2.034523713969373, 2.920710904269772]] │\n",
      "╘═════════════════════════════════════════════════════════════════════════════════════════════════════════════════════════════════════════════════════════════════════════════════════════════════════════════════════════════════════════════════════════════════╛\n",
      "\n",
      " Interval for ENSEIGNE\n",
      " Min chi square value is 27.605488404517967\n",
      "╒═══════════════════════════════════════════════════════════════════════════════════════════════════════════════════════════════════════════════════════════════════════════════════════════════════════════════════════════════════════════════╕\n",
      "│ [[0.0, 0.3156732891832229], [0.3215667311411992, 0.3380368098159509], [0.3443708609271523, 0.4052874743326489], [0.4296917252568956, 0.4296917252568956], [0.4387510008006405, 0.5070422535211268], [0.5337931034482759, 0.6547291092745638]] │\n",
      "╘═══════════════════════════════════════════════════════════════════════════════════════════════════════════════════════════════════════════════════════════════════════════════════════════════════════════════════════════════════════════════╛\n",
      "\n",
      " Interval for VenteConv\n",
      " Min chi square value is 51.17014200241611\n",
      "╒═══════════════════════════════════════════════════════════════════════════════════════════════════════════════════════════════════════════════════════════════════════════════════════════════════════════════════════════════════════════════════════════════╕\n",
      "│ [[-1.4717681888020309, -0.7146353370234171], [-0.7028980311468961, 0.1039826472840244], [0.1155425152019677, 0.9114741756653468], [0.9150599765898864, 1.3995817067617895], [1.4053866693161836, 1.872659880276555], [1.8741373870271127, 1.992955999948572]] │\n",
      "╘═══════════════════════════════════════════════════════════════════════════════════════════════════════════════════════════════════════════════════════════════════════════════════════════════════════════════════════════════════════════════════════════════╛\n"
     ]
    }
   ],
   "source": [
    "max_intervals = 6\n",
    "obj = Discretization()\n",
    "interval_list = []\n",
    "for colName in ['cor_sales_in_vol', 'CA_mag', 'value', 'ENSEIGNE', 'VenteConv']:\n",
    "    print('\\n Interval for', colName)\n",
    "    intervals = obj.get_chimerge_intervals(\n",
    "        iris, colName, iris.columns[-1], max_intervals)\n",
    "    interval_list.append(intervals)\n",
    "    print(tabulate([[intervals]], tablefmt='fancy_grid'))\n"
   ]
  },
  {
   "cell_type": "code",
   "execution_count": 16,
   "metadata": {},
   "outputs": [
    {
     "data": {
      "text/plain": [
       "[[-1.1403646023581553, -0.6458719921714208],\n",
       " [-0.5759778561981855, 0.1824347354057059],\n",
       " [0.2626479647762573, 1.047701524801824],\n",
       " [1.072827439087331, 1.5129655587125952],\n",
       " [1.52597976021606, 1.9245737273099528],\n",
       " [1.933071071436924, 2.1672481957059224]]"
      ]
     },
     "execution_count": 16,
     "metadata": {},
     "output_type": "execute_result"
    }
   ],
   "source": [
    "interval_list[0]\n"
   ]
  },
  {
   "cell_type": "code",
   "execution_count": 26,
   "metadata": {},
   "outputs": [],
   "source": [
    "i = 0\n",
    "for feature in ['cor_sales_in_vol', 'CA_mag', 'value', 'ENSEIGNE', 'VenteConv']:\n",
    "    intervals = interval_list[i]\n",
    "    iris[feature] = pd.cut(iris[feature], bins=len(intervals)-1,\n",
    "                           labels=range(len(intervals)-1))\n",
    "    i += 1\n"
   ]
  },
  {
   "cell_type": "code",
   "execution_count": 27,
   "metadata": {},
   "outputs": [
    {
     "data": {
      "text/html": [
       "<div>\n",
       "<style scoped>\n",
       "    .dataframe tbody tr th:only-of-type {\n",
       "        vertical-align: middle;\n",
       "    }\n",
       "\n",
       "    .dataframe tbody tr th {\n",
       "        vertical-align: top;\n",
       "    }\n",
       "\n",
       "    .dataframe thead th {\n",
       "        text-align: right;\n",
       "    }\n",
       "</style>\n",
       "<table border=\"1\" class=\"dataframe\">\n",
       "  <thead>\n",
       "    <tr style=\"text-align: right;\">\n",
       "      <th></th>\n",
       "      <th>Y</th>\n",
       "      <th>cor_sales_in_vol</th>\n",
       "      <th>cor_sales_in_val</th>\n",
       "      <th>CA_mag</th>\n",
       "      <th>value</th>\n",
       "      <th>ENSEIGNE</th>\n",
       "      <th>VenteConv</th>\n",
       "      <th>Feature</th>\n",
       "    </tr>\n",
       "  </thead>\n",
       "  <tbody>\n",
       "    <tr>\n",
       "      <th>0</th>\n",
       "      <td>0</td>\n",
       "      <td>0</td>\n",
       "      <td>-0.502125</td>\n",
       "      <td>2</td>\n",
       "      <td>2</td>\n",
       "      <td>2</td>\n",
       "      <td>1</td>\n",
       "      <td>0</td>\n",
       "    </tr>\n",
       "    <tr>\n",
       "      <th>1</th>\n",
       "      <td>0</td>\n",
       "      <td>0</td>\n",
       "      <td>-0.909596</td>\n",
       "      <td>2</td>\n",
       "      <td>2</td>\n",
       "      <td>3</td>\n",
       "      <td>0</td>\n",
       "      <td>0</td>\n",
       "    </tr>\n",
       "    <tr>\n",
       "      <th>2</th>\n",
       "      <td>0</td>\n",
       "      <td>2</td>\n",
       "      <td>-0.110600</td>\n",
       "      <td>2</td>\n",
       "      <td>3</td>\n",
       "      <td>2</td>\n",
       "      <td>4</td>\n",
       "      <td>0</td>\n",
       "    </tr>\n",
       "    <tr>\n",
       "      <th>3</th>\n",
       "      <td>0</td>\n",
       "      <td>0</td>\n",
       "      <td>-0.691295</td>\n",
       "      <td>2</td>\n",
       "      <td>1</td>\n",
       "      <td>3</td>\n",
       "      <td>0</td>\n",
       "      <td>0</td>\n",
       "    </tr>\n",
       "    <tr>\n",
       "      <th>4</th>\n",
       "      <td>0</td>\n",
       "      <td>2</td>\n",
       "      <td>0.794141</td>\n",
       "      <td>4</td>\n",
       "      <td>3</td>\n",
       "      <td>2</td>\n",
       "      <td>3</td>\n",
       "      <td>0</td>\n",
       "    </tr>\n",
       "  </tbody>\n",
       "</table>\n",
       "</div>"
      ],
      "text/plain": [
       "   Y cor_sales_in_vol  cor_sales_in_val CA_mag value ENSEIGNE VenteConv  \\\n",
       "0  0                0         -0.502125      2     2        2         1   \n",
       "1  0                0         -0.909596      2     2        3         0   \n",
       "2  0                2         -0.110600      2     3        2         4   \n",
       "3  0                0         -0.691295      2     1        3         0   \n",
       "4  0                2          0.794141      4     3        2         3   \n",
       "\n",
       "   Feature  \n",
       "0        0  \n",
       "1        0  \n",
       "2        0  \n",
       "3        0  \n",
       "4        0  "
      ]
     },
     "execution_count": 27,
     "metadata": {},
     "output_type": "execute_result"
    }
   ],
   "source": [
    "iris.head()"
   ]
  },
  {
   "cell_type": "code",
   "execution_count": 33,
   "metadata": {},
   "outputs": [
    {
     "data": {
      "text/html": [
       "<div>\n",
       "<style scoped>\n",
       "    .dataframe tbody tr th:only-of-type {\n",
       "        vertical-align: middle;\n",
       "    }\n",
       "\n",
       "    .dataframe tbody tr th {\n",
       "        vertical-align: top;\n",
       "    }\n",
       "\n",
       "    .dataframe thead th {\n",
       "        text-align: right;\n",
       "    }\n",
       "</style>\n",
       "<table border=\"1\" class=\"dataframe\">\n",
       "  <thead>\n",
       "    <tr style=\"text-align: right;\">\n",
       "      <th></th>\n",
       "      <th>Y</th>\n",
       "      <th>cor_sales_in_vol</th>\n",
       "      <th>cor_sales_in_val</th>\n",
       "      <th>CA_mag</th>\n",
       "      <th>value</th>\n",
       "      <th>ENSEIGNE</th>\n",
       "      <th>VenteConv</th>\n",
       "      <th>Feature</th>\n",
       "    </tr>\n",
       "  </thead>\n",
       "  <tbody>\n",
       "    <tr>\n",
       "      <th>0</th>\n",
       "      <td>0</td>\n",
       "      <td>0</td>\n",
       "      <td>42</td>\n",
       "      <td>2</td>\n",
       "      <td>2</td>\n",
       "      <td>2</td>\n",
       "      <td>1</td>\n",
       "      <td>0</td>\n",
       "    </tr>\n",
       "    <tr>\n",
       "      <th>1</th>\n",
       "      <td>0</td>\n",
       "      <td>0</td>\n",
       "      <td>25</td>\n",
       "      <td>2</td>\n",
       "      <td>2</td>\n",
       "      <td>3</td>\n",
       "      <td>0</td>\n",
       "      <td>0</td>\n",
       "    </tr>\n",
       "    <tr>\n",
       "      <th>2</th>\n",
       "      <td>0</td>\n",
       "      <td>2</td>\n",
       "      <td>58</td>\n",
       "      <td>2</td>\n",
       "      <td>3</td>\n",
       "      <td>2</td>\n",
       "      <td>4</td>\n",
       "      <td>0</td>\n",
       "    </tr>\n",
       "    <tr>\n",
       "      <th>3</th>\n",
       "      <td>0</td>\n",
       "      <td>0</td>\n",
       "      <td>34</td>\n",
       "      <td>2</td>\n",
       "      <td>1</td>\n",
       "      <td>3</td>\n",
       "      <td>0</td>\n",
       "      <td>0</td>\n",
       "    </tr>\n",
       "    <tr>\n",
       "      <th>4</th>\n",
       "      <td>0</td>\n",
       "      <td>2</td>\n",
       "      <td>96</td>\n",
       "      <td>4</td>\n",
       "      <td>3</td>\n",
       "      <td>2</td>\n",
       "      <td>3</td>\n",
       "      <td>0</td>\n",
       "    </tr>\n",
       "  </tbody>\n",
       "</table>\n",
       "</div>"
      ],
      "text/plain": [
       "   Y cor_sales_in_vol  cor_sales_in_val CA_mag value ENSEIGNE VenteConv  \\\n",
       "0  0                0                42      2     2        2         1   \n",
       "1  0                0                25      2     2        3         0   \n",
       "2  0                2                58      2     3        2         4   \n",
       "3  0                0                34      2     1        3         0   \n",
       "4  0                2                96      4     3        2         3   \n",
       "\n",
       "   Feature  \n",
       "0        0  \n",
       "1        0  \n",
       "2        0  \n",
       "3        0  \n",
       "4        0  "
      ]
     },
     "execution_count": 33,
     "metadata": {},
     "output_type": "execute_result"
    }
   ],
   "source": [
    "iris.head()"
   ]
  },
  {
   "cell_type": "code",
   "execution_count": 28,
   "metadata": {},
   "outputs": [
    {
     "data": {
      "text/html": [
       "<div>\n",
       "<style scoped>\n",
       "    .dataframe tbody tr th:only-of-type {\n",
       "        vertical-align: middle;\n",
       "    }\n",
       "\n",
       "    .dataframe tbody tr th {\n",
       "        vertical-align: top;\n",
       "    }\n",
       "\n",
       "    .dataframe thead th {\n",
       "        text-align: right;\n",
       "    }\n",
       "</style>\n",
       "<table border=\"1\" class=\"dataframe\">\n",
       "  <thead>\n",
       "    <tr style=\"text-align: right;\">\n",
       "      <th></th>\n",
       "      <th>Y</th>\n",
       "      <th>cor_sales_in_vol</th>\n",
       "      <th>cor_sales_in_val</th>\n",
       "      <th>CA_mag</th>\n",
       "      <th>value</th>\n",
       "      <th>ENSEIGNE</th>\n",
       "      <th>VenteConv</th>\n",
       "      <th>Feature</th>\n",
       "    </tr>\n",
       "  </thead>\n",
       "  <tbody>\n",
       "    <tr>\n",
       "      <th>0</th>\n",
       "      <td>0</td>\n",
       "      <td>19</td>\n",
       "      <td>42</td>\n",
       "      <td>66</td>\n",
       "      <td>74</td>\n",
       "      <td>0.338037</td>\n",
       "      <td>39</td>\n",
       "      <td>0</td>\n",
       "    </tr>\n",
       "    <tr>\n",
       "      <th>1</th>\n",
       "      <td>0</td>\n",
       "      <td>19</td>\n",
       "      <td>25</td>\n",
       "      <td>80</td>\n",
       "      <td>54</td>\n",
       "      <td>0.405287</td>\n",
       "      <td>27</td>\n",
       "      <td>0</td>\n",
       "    </tr>\n",
       "    <tr>\n",
       "      <th>2</th>\n",
       "      <td>0</td>\n",
       "      <td>88</td>\n",
       "      <td>58</td>\n",
       "      <td>79</td>\n",
       "      <td>98</td>\n",
       "      <td>0.321567</td>\n",
       "      <td>123</td>\n",
       "      <td>0</td>\n",
       "    </tr>\n",
       "    <tr>\n",
       "      <th>3</th>\n",
       "      <td>0</td>\n",
       "      <td>19</td>\n",
       "      <td>34</td>\n",
       "      <td>78</td>\n",
       "      <td>44</td>\n",
       "      <td>0.429692</td>\n",
       "      <td>21</td>\n",
       "      <td>0</td>\n",
       "    </tr>\n",
       "    <tr>\n",
       "      <th>4</th>\n",
       "      <td>0</td>\n",
       "      <td>62</td>\n",
       "      <td>96</td>\n",
       "      <td>126</td>\n",
       "      <td>90</td>\n",
       "      <td>0.338037</td>\n",
       "      <td>96</td>\n",
       "      <td>0</td>\n",
       "    </tr>\n",
       "  </tbody>\n",
       "</table>\n",
       "</div>"
      ],
      "text/plain": [
       "   Y  cor_sales_in_vol  cor_sales_in_val  CA_mag  value  ENSEIGNE  VenteConv  \\\n",
       "0  0                19                42      66     74  0.338037         39   \n",
       "1  0                19                25      80     54  0.405287         27   \n",
       "2  0                88                58      79     98  0.321567        123   \n",
       "3  0                19                34      78     44  0.429692         21   \n",
       "4  0                62                96     126     90  0.338037         96   \n",
       "\n",
       "   Feature  \n",
       "0        0  \n",
       "1        0  \n",
       "2        0  \n",
       "3        0  \n",
       "4        0  "
      ]
     },
     "execution_count": 28,
     "metadata": {},
     "output_type": "execute_result"
    }
   ],
   "source": [
    "data_mdlpc = pd.read_csv(\"data_after_MDLPC.csv\")\n",
    "data_mdlpc.head()\n"
   ]
  },
  {
   "cell_type": "code",
   "execution_count": 29,
   "metadata": {},
   "outputs": [],
   "source": [
    "iris['cor_sales_in_val'] = data_mdlpc['cor_sales_in_val']"
   ]
  },
  {
   "attachments": {},
   "cell_type": "markdown",
   "metadata": {},
   "source": [
    "### Trying the models \n",
    "\n",
    "- **Logit model**\n",
    "\n",
    "- **ADL model**\n",
    "\n",
    "- **Decision tree**\n",
    "\n",
    "- **Random Forest**\n",
    "\n",
    "- **Neural network**\n",
    "\n",
    "- **Gradient Boosting machine**\n",
    "\n",
    "- **Support Vector Machine**"
   ]
  },
  {
   "attachments": {},
   "cell_type": "markdown",
   "metadata": {},
   "source": [
    "#### Logit model\n",
    "The logit model, also known as a logistic regression model, is used for binary classification problems. It estimates the probability of the target variable being a certain class given the independent variables."
   ]
  },
  {
   "cell_type": "code",
   "execution_count": 30,
   "metadata": {},
   "outputs": [],
   "source": [
    "import pandas as pd\n",
    "from sklearn.linear_model import LogisticRegression\n",
    "from sklearn.model_selection import train_test_split\n",
    "\n",
    "# load the dataset\n",
    "df = iris\n",
    "\n",
    "# split the data into the features(X) and the target(Y)\n",
    "X = df.drop('Y', axis=1)\n",
    "Y = df['Y']\n",
    "\n",
    "# split the data into training and testing sets\n",
    "X_train, X_test, Y_train, Y_test = train_test_split(\n",
    "    X, Y, test_size=0.2, random_state=42)\n",
    "\n",
    "# instantiate the model\n",
    "logit = LogisticRegression()\n",
    "\n",
    "# fit the model on the training data\n",
    "logit.fit(X_train, Y_train)\n",
    "\n",
    "# make predictions on the test data\n",
    "Y_pred = logit.predict(X_test)\n"
   ]
  },
  {
   "cell_type": "code",
   "execution_count": 31,
   "metadata": {},
   "outputs": [
    {
     "data": {
      "image/png": "[encoded data removed]",
      "text/plain": [
       "<Figure size 288x288 with 2 Axes>"
      ]
     },
     "metadata": {
      "needs_background": "light"
     },
     "output_type": "display_data"
    }
   ],
   "source": [
    "from sklearn.metrics import confusion_matrix\n",
    "import matplotlib.pyplot as plt\n",
    "import seaborn as sns\n",
    "\n",
    "def plot_confusion_matrix(y_true, y_pred):\n",
    "    conf_matrix = confusion_matrix(y_true, y_pred)\n",
    "    plt.figure(figsize=(4, 4))\n",
    "    sns.heatmap(conf_matrix, annot=True, cmap='Blues', fmt='g')\n",
    "    plt.ylabel('True label')\n",
    "    plt.xlabel('Predicted label')\n",
    "\n",
    "\n",
    "plot_confusion_matrix(Y_test, Y_pred)\n"
   ]
  },
  {
   "cell_type": "code",
   "execution_count": 32,
   "metadata": {},
   "outputs": [
    {
     "name": "stdout",
     "output_type": "stream",
     "text": [
      "Accuracy: 0.7324096124702316\n",
      "Precision: 0.8305084745762712\n",
      "Recall: 0.5283638068448195\n",
      "F1 Score: 0.6458452722063037\n"
     ]
    }
   ],
   "source": [
    "from sklearn.metrics import accuracy_score, precision_score, recall_score, f1_score\n",
    "\n",
    "\n",
    "def evaluate_model(y_true, y_pred):\n",
    "    acc = accuracy_score(y_true, y_pred)\n",
    "    prec = precision_score(y_true, y_pred)\n",
    "    rec = recall_score(y_true, y_pred)\n",
    "    f1 = f1_score(y_true, y_pred)\n",
    "\n",
    "    return acc, prec, rec, f1\n",
    "\n",
    "\n",
    "acc, prec, rec, f1 = evaluate_model(Y_test, Y_pred)\n",
    "print(\"Accuracy:\", acc)\n",
    "print(\"Precision:\", prec)\n",
    "print(\"Recall:\", rec)\n",
    "print(\"F1 Score:\", f1)\n"
   ]
  },
  {
   "attachments": {},
   "cell_type": "markdown",
   "metadata": {},
   "source": [
    "#### ADL model: \n",
    "Linear discriminant analysis (LDA) is a method used for classification and dimensionality reduction. It aims to find a linear combination of the independent variables that best separates the different classes of the target variable."
   ]
  },
  {
   "cell_type": "code",
   "execution_count": 34,
   "metadata": {},
   "outputs": [],
   "source": [
    "from sklearn.discriminant_analysis import LinearDiscriminantAnalysis"
   ]
  },
  {
   "cell_type": "code",
   "execution_count": 35,
   "metadata": {},
   "outputs": [],
   "source": [
    "# instantiate the model\n",
    "adl = LinearDiscriminantAnalysis()\n",
    "# fit the model on the training data\n",
    "adl.fit(X_train, Y_train)\n",
    "# make predictions on the test data\n",
    "Y_pred = adl.predict(X_test)\n"
   ]
  },
  {
   "cell_type": "code",
   "execution_count": 36,
   "metadata": {},
   "outputs": [
    {
     "data": {
      "image/png": "[encoded data removed]",
      "text/plain": [
       "<Figure size 288x288 with 2 Axes>"
      ]
     },
     "metadata": {
      "needs_background": "light"
     },
     "output_type": "display_data"
    }
   ],
   "source": [
    "from sklearn.metrics import confusion_matrix\n",
    "import matplotlib.pyplot as plt\n",
    "\n",
    "\n",
    "def plot_confusion_matrix(y_true, y_pred):\n",
    "    conf_matrix = confusion_matrix(y_true, y_pred)\n",
    "    plt.figure(figsize=(4, 4))\n",
    "    sns.heatmap(conf_matrix, annot=True, cmap='Blues', fmt='g')\n",
    "    plt.ylabel('True label')\n",
    "    plt.xlabel('Predicted label')\n",
    "\n",
    "\n",
    "plot_confusion_matrix(Y_test, Y_pred)\n"
   ]
  },
  {
   "cell_type": "code",
   "execution_count": 37,
   "metadata": {},
   "outputs": [
    {
     "name": "stdout",
     "output_type": "stream",
     "text": [
      "Accuracy: 0.7276466767698636\n",
      "Precision: 0.8729752770673487\n",
      "Recall: 0.48007501172058137\n",
      "F1 Score: 0.6194797338173018\n"
     ]
    }
   ],
   "source": [
    "acc, prec, rec, f1 = evaluate_model(Y_test, Y_pred)\n",
    "print(\"Accuracy:\", acc)\n",
    "print(\"Precision:\", prec)\n",
    "print(\"Recall:\", rec)\n",
    "print(\"F1 Score:\", f1)\n"
   ]
  },
  {
   "attachments": {},
   "cell_type": "markdown",
   "metadata": {},
   "source": [
    "#### Decision tree: \n",
    "Decision trees are a type of supervised learning algorithm used for both classification and regression problems. They work by recursively partitioning the data into subsets based on the values of the independent variables."
   ]
  },
  {
   "cell_type": "code",
   "execution_count": 38,
   "metadata": {},
   "outputs": [],
   "source": [
    "from sklearn.tree import DecisionTreeClassifier\n",
    "\n",
    "# instantiate the model\n",
    "dt = DecisionTreeClassifier()\n",
    "# fit the model on the training data\n",
    "dt.fit(X_train, Y_train)\n",
    "# make predictions on the test data\n",
    "Y_pred = dt.predict(X_test)\n"
   ]
  },
  {
   "cell_type": "code",
   "execution_count": 39,
   "metadata": {},
   "outputs": [
    {
     "data": {
      "image/png": "[encoded data removed]",
      "text/plain": [
       "<Figure size 288x288 with 2 Axes>"
      ]
     },
     "metadata": {
      "needs_background": "light"
     },
     "output_type": "display_data"
    }
   ],
   "source": [
    "plot_confusion_matrix(Y_test, Y_pred)\n"
   ]
  },
  {
   "cell_type": "code",
   "execution_count": 40,
   "metadata": {},
   "outputs": [
    {
     "name": "stdout",
     "output_type": "stream",
     "text": [
      "Accuracy: 0.7566572851266508\n",
      "Precision: 0.7637219027705175\n",
      "Recall: 0.6849507735583685\n",
      "F1 Score: 0.722194760257044\n"
     ]
    }
   ],
   "source": [
    "acc, prec, rec, f1 = evaluate_model(Y_test, Y_pred)\n",
    "print(\"Accuracy:\", acc)\n",
    "print(\"Precision:\", prec)\n",
    "print(\"Recall:\", rec)\n",
    "print(\"F1 Score:\", f1)\n"
   ]
  },
  {
   "attachments": {},
   "cell_type": "markdown",
   "metadata": {},
   "source": [
    "##### We will try to fine-tune the DT model to explore better results "
   ]
  },
  {
   "cell_type": "code",
   "execution_count": 41,
   "metadata": {},
   "outputs": [],
   "source": [
    "from sklearn.model_selection import GridSearchCV\n"
   ]
  },
  {
   "cell_type": "code",
   "execution_count": 42,
   "metadata": {},
   "outputs": [
    {
     "data": {
      "text/html": [
       "<style>#sk-container-id-1 {color: black;background-color: white;}#sk-container-id-1 pre{padding: 0;}#sk-container-id-1 div.sk-toggleable {background-color: white;}#sk-container-id-1 label.sk-toggleable__label {cursor: pointer;display: block;width: 100%;margin-bottom: 0;padding: 0.3em;box-sizing: border-box;text-align: center;}#sk-container-id-1 label.sk-toggleable__label-arrow:before {content: \"▸\";float: left;margin-right: 0.25em;color: #696969;}#sk-container-id-1 label.sk-toggleable__label-arrow:hover:before {color: black;}#sk-container-id-1 div.sk-estimator:hover label.sk-toggleable__label-arrow:before {color: black;}#sk-container-id-1 div.sk-toggleable__content {max-height: 0;max-width: 0;overflow: hidden;text-align: left;background-color: #f0f8ff;}#sk-container-id-1 div.sk-toggleable__content pre {margin: 0.2em;color: black;border-radius: 0.25em;background-color: #f0f8ff;}#sk-container-id-1 input.sk-toggleable__control:checked~div.sk-toggleable__content {max-height: 200px;max-width: 100%;overflow: auto;}#sk-container-id-1 input.sk-toggleable__control:checked~label.sk-toggleable__label-arrow:before {content: \"▾\";}#sk-container-id-1 div.sk-estimator input.sk-toggleable__control:checked~label.sk-toggleable__label {background-color: #d4ebff;}#sk-container-id-1 div.sk-label input.sk-toggleable__control:checked~label.sk-toggleable__label {background-color: #d4ebff;}#sk-container-id-1 input.sk-hidden--visually {border: 0;clip: rect(1px 1px 1px 1px);clip: rect(1px, 1px, 1px, 1px);height: 1px;margin: -1px;overflow: hidden;padding: 0;position: absolute;width: 1px;}#sk-container-id-1 div.sk-estimator {font-family: monospace;background-color: #f0f8ff;border: 1px dotted black;border-radius: 0.25em;box-sizing: border-box;margin-bottom: 0.5em;}#sk-container-id-1 div.sk-estimator:hover {background-color: #d4ebff;}#sk-container-id-1 div.sk-parallel-item::after {content: \"\";width: 100%;border-bottom: 1px solid gray;flex-grow: 1;}#sk-container-id-1 div.sk-label:hover label.sk-toggleable__label {background-color: #d4ebff;}#sk-container-id-1 div.sk-serial::before {content: \"\";position: absolute;border-left: 1px solid gray;box-sizing: border-box;top: 0;bottom: 0;left: 50%;z-index: 0;}#sk-container-id-1 div.sk-serial {display: flex;flex-direction: column;align-items: center;background-color: white;padding-right: 0.2em;padding-left: 0.2em;position: relative;}#sk-container-id-1 div.sk-item {position: relative;z-index: 1;}#sk-container-id-1 div.sk-parallel {display: flex;align-items: stretch;justify-content: center;background-color: white;position: relative;}#sk-container-id-1 div.sk-item::before, #sk-container-id-1 div.sk-parallel-item::before {content: \"\";position: absolute;border-left: 1px solid gray;box-sizing: border-box;top: 0;bottom: 0;left: 50%;z-index: -1;}#sk-container-id-1 div.sk-parallel-item {display: flex;flex-direction: column;z-index: 1;position: relative;background-color: white;}#sk-container-id-1 div.sk-parallel-item:first-child::after {align-self: flex-end;width: 50%;}#sk-container-id-1 div.sk-parallel-item:last-child::after {align-self: flex-start;width: 50%;}#sk-container-id-1 div.sk-parallel-item:only-child::after {width: 0;}#sk-container-id-1 div.sk-dashed-wrapped {border: 1px dashed gray;margin: 0 0.4em 0.5em 0.4em;box-sizing: border-box;padding-bottom: 0.4em;background-color: white;}#sk-container-id-1 div.sk-label label {font-family: monospace;font-weight: bold;display: inline-block;line-height: 1.2em;}#sk-container-id-1 div.sk-label-container {text-align: center;}#sk-container-id-1 div.sk-container {/* jupyter's `normalize.less` sets `[hidden] { display: none; }` but bootstrap.min.css set `[hidden] { display: none !important; }` so we also need the `!important` here to be able to override the default hidden behavior on the sphinx rendered scikit-learn.org. See: https://github.com/scikit-learn/scikit-learn/issues/21755 */display: inline-block !important;position: relative;}#sk-container-id-1 div.sk-text-repr-fallback {display: none;}</style><div id=\"sk-container-id-1\" class=\"sk-top-container\"><div class=\"sk-text-repr-fallback\"><pre>GridSearchCV(cv=5, estimator=DecisionTreeClassifier(),\n",
       "             param_grid={&#x27;max_depth&#x27;: [2, 4, 6, 8, 10],\n",
       "                         &#x27;min_samples_leaf&#x27;: [1, 2, 4, 6, 8, 10],\n",
       "                         &#x27;min_samples_split&#x27;: [2, 4, 6, 8, 10]})</pre><b>In a Jupyter environment, please rerun this cell to show the HTML representation or trust the notebook. <br />On GitHub, the HTML representation is unable to render, please try loading this page with nbviewer.org.</b></div><div class=\"sk-container\" hidden><div class=\"sk-item sk-dashed-wrapped\"><div class=\"sk-label-container\"><div class=\"sk-label sk-toggleable\"><input class=\"sk-toggleable__control sk-hidden--visually\" id=\"sk-estimator-id-1\" type=\"checkbox\" ><label for=\"sk-estimator-id-1\" class=\"sk-toggleable__label sk-toggleable__label-arrow\">GridSearchCV</label><div class=\"sk-toggleable__content\"><pre>GridSearchCV(cv=5, estimator=DecisionTreeClassifier(),\n",
       "             param_grid={&#x27;max_depth&#x27;: [2, 4, 6, 8, 10],\n",
       "                         &#x27;min_samples_leaf&#x27;: [1, 2, 4, 6, 8, 10],\n",
       "                         &#x27;min_samples_split&#x27;: [2, 4, 6, 8, 10]})</pre></div></div></div><div class=\"sk-parallel\"><div class=\"sk-parallel-item\"><div class=\"sk-item\"><div class=\"sk-label-container\"><div class=\"sk-label sk-toggleable\"><input class=\"sk-toggleable__control sk-hidden--visually\" id=\"sk-estimator-id-2\" type=\"checkbox\" ><label for=\"sk-estimator-id-2\" class=\"sk-toggleable__label sk-toggleable__label-arrow\">estimator: DecisionTreeClassifier</label><div class=\"sk-toggleable__content\"><pre>DecisionTreeClassifier()</pre></div></div></div><div class=\"sk-serial\"><div class=\"sk-item\"><div class=\"sk-estimator sk-toggleable\"><input class=\"sk-toggleable__control sk-hidden--visually\" id=\"sk-estimator-id-3\" type=\"checkbox\" ><label for=\"sk-estimator-id-3\" class=\"sk-toggleable__label sk-toggleable__label-arrow\">DecisionTreeClassifier</label><div class=\"sk-toggleable__content\"><pre>DecisionTreeClassifier()</pre></div></div></div></div></div></div></div></div></div></div>"
      ],
      "text/plain": [
       "GridSearchCV(cv=5, estimator=DecisionTreeClassifier(),\n",
       "             param_grid={'max_depth': [2, 4, 6, 8, 10],\n",
       "                         'min_samples_leaf': [1, 2, 4, 6, 8, 10],\n",
       "                         'min_samples_split': [2, 4, 6, 8, 10]})"
      ]
     },
     "execution_count": 42,
     "metadata": {},
     "output_type": "execute_result"
    }
   ],
   "source": [
    "# Define the parameter grid to search over\n",
    "param_grid = {'max_depth': [2, 4, 6, 8, 10],\n",
    "              'min_samples_split': [2, 4, 6, 8, 10],\n",
    "              'min_samples_leaf': [1, 2, 4, 6, 8, 10]}\n",
    "# Instantiate the GridSearchCV object\n",
    "grid_search = GridSearchCV(dt, param_grid, cv=5)\n",
    "# Fit the grid search object to the data\n",
    "grid_search.fit(X_train, Y_train)\n"
   ]
  },
  {
   "cell_type": "code",
   "execution_count": 43,
   "metadata": {},
   "outputs": [
    {
     "name": "stdout",
     "output_type": "stream",
     "text": [
      "Best parameters:  {'max_depth': 10, 'min_samples_leaf': 10, 'min_samples_split': 8}\n",
      "Best score:  0.7639254674038946\n"
     ]
    }
   ],
   "source": [
    "# Print the best parameters and the best score\n",
    "print(\"Best parameters: \", grid_search.best_params_)\n",
    "print(\"Best score: \", grid_search.best_score_)\n"
   ]
  },
  {
   "cell_type": "code",
   "execution_count": 44,
   "metadata": {},
   "outputs": [],
   "source": [
    "# Re-train the model with the best parameters\n",
    "dt = DecisionTreeClassifier(max_depth=grid_search.best_params_[\"max_depth\"],\n",
    "                            min_samples_split=grid_search.best_params_[\n",
    "                                \"min_samples_split\"],\n",
    "                            min_samples_leaf=grid_search.best_params_[\"min_samples_leaf\"])\n",
    "dt.fit(X_train, Y_train)\n",
    "\n",
    "Y_pred = dt.predict(X_test)"
   ]
  },
  {
   "cell_type": "code",
   "execution_count": 45,
   "metadata": {},
   "outputs": [
    {
     "data": {
      "image/png": "[encoded data removed]",
      "text/plain": [
       "<Figure size 288x288 with 2 Axes>"
      ]
     },
     "metadata": {
      "needs_background": "light"
     },
     "output_type": "display_data"
    }
   ],
   "source": [
    "plot_confusion_matrix(Y_test, Y_pred)\n"
   ]
  },
  {
   "cell_type": "code",
   "execution_count": 46,
   "metadata": {},
   "outputs": [
    {
     "name": "stdout",
     "output_type": "stream",
     "text": [
      "Accuracy: 0.7638016886772029\n",
      "Precision: 0.8116028708133971\n",
      "Recall: 0.6361931551804969\n",
      "F1 Score: 0.7132720105124836\n"
     ]
    }
   ],
   "source": [
    "acc, prec, rec, f1 = evaluate_model(Y_test, Y_pred)\n",
    "print(\"Accuracy:\", acc)\n",
    "print(\"Precision:\", prec)\n",
    "print(\"Recall:\", rec)\n",
    "print(\"F1 Score:\", f1)\n"
   ]
  },
  {
   "attachments": {},
   "cell_type": "markdown",
   "metadata": {},
   "source": [
    "##### It turns out that we gote worse results when we tried to tune the model, that might be due to several reasons such as : \n",
    "\n",
    "- **Overfitting**: The model may be overfitting on the training data and therefore may not generalize well to unseen test data.\n",
    "\n",
    "- **Insufficient data**: The dataset may be too small to support the complexity of the model, and thus the model is not able to learn the underlying patterns of the data.\n",
    "\n",
    "- **Poorly chosen parameter grid**: The parameters searched in the grid search may not be the best for the specific dataset and problem.\n",
    "\n",
    "- **Correlated features**: The features used in the model may be correlated with each other, this could lead to poor generalization as the model would be based on redundant information."
   ]
  },
  {
   "attachments": {},
   "cell_type": "markdown",
   "metadata": {},
   "source": [
    "#### Random Forest:\n",
    " A random forest is an ensemble of decision trees. The idea is to average the predictions of many trees to reduce the variance and increase the accuracy of the model."
   ]
  },
  {
   "cell_type": "code",
   "execution_count": 47,
   "metadata": {},
   "outputs": [],
   "source": [
    "from sklearn.ensemble import RandomForestClassifier\n",
    "# instantiate the model\n",
    "rf = RandomForestClassifier()\n",
    "\n",
    "# fit the model on the training data\n",
    "rf.fit(X_train, Y_train)\n",
    "# make predictions on the test data\n",
    "Y_pred = rf.predict(X_test)\n"
   ]
  },
  {
   "cell_type": "code",
   "execution_count": 48,
   "metadata": {},
   "outputs": [
    {
     "data": {
      "image/png": "[encoded data removed]",
      "text/plain": [
       "<Figure size 288x288 with 2 Axes>"
      ]
     },
     "metadata": {
      "needs_background": "light"
     },
     "output_type": "display_data"
    }
   ],
   "source": [
    "plot_confusion_matrix(Y_test, Y_pred)\n"
   ]
  },
  {
   "cell_type": "code",
   "execution_count": 49,
   "metadata": {},
   "outputs": [
    {
     "name": "stdout",
     "output_type": "stream",
     "text": [
      "Accuracy: 0.767698636068413\n",
      "Precision: 0.7628968253968254\n",
      "Recall: 0.7210501640881388\n",
      "F1 Score: 0.7413834658953966\n"
     ]
    }
   ],
   "source": [
    "acc, prec, rec, f1 = evaluate_model(Y_test, Y_pred)\n",
    "print(\"Accuracy:\", acc)\n",
    "print(\"Precision:\", prec)\n",
    "print(\"Recall:\", rec)\n",
    "print(\"F1 Score:\", f1)\n"
   ]
  },
  {
   "attachments": {},
   "cell_type": "markdown",
   "metadata": {},
   "source": [
    "#### Neural network: \n",
    "Neural networks are a type of machine learning model that are inspired by the structure and function of the human brain. They can be used for a wide range of problems, including classification and regression."
   ]
  },
  {
   "cell_type": "code",
   "execution_count": 50,
   "metadata": {},
   "outputs": [
    {
     "name": "stderr",
     "output_type": "stream",
     "text": [
      "2023-01-20 16:12:05.014968: I tensorflow/core/platform/cpu_feature_guard.cc:193] This TensorFlow binary is optimized with oneAPI Deep Neural Network Library (oneDNN) to use the following CPU instructions in performance-critical operations:  AVX2 FMA\n",
      "To enable them in other operations, rebuild TensorFlow with the appropriate compiler flags.\n",
      "2023-01-20 16:12:05.736590: W tensorflow/compiler/xla/stream_executor/platform/default/dso_loader.cc:64] Could not load dynamic library 'libcudart.so.11.0'; dlerror: libcudart.so.11.0: cannot open shared object file: No such file or directory\n",
      "2023-01-20 16:12:05.736622: I tensorflow/compiler/xla/stream_executor/cuda/cudart_stub.cc:29] Ignore above cudart dlerror if you do not have a GPU set up on your machine.\n",
      "2023-01-20 16:12:07.925140: W tensorflow/compiler/xla/stream_executor/platform/default/dso_loader.cc:64] Could not load dynamic library 'libnvinfer.so.7'; dlerror: libnvinfer.so.7: cannot open shared object file: No such file or directory\n",
      "2023-01-20 16:12:07.925894: W tensorflow/compiler/xla/stream_executor/platform/default/dso_loader.cc:64] Could not load dynamic library 'libnvinfer_plugin.so.7'; dlerror: libnvinfer_plugin.so.7: cannot open shared object file: No such file or directory\n",
      "2023-01-20 16:12:07.925932: W tensorflow/compiler/tf2tensorrt/utils/py_utils.cc:38] TF-TRT Warning: Cannot dlopen some TensorRT libraries. If you would like to use Nvidia GPU with TensorRT, please make sure the missing libraries mentioned above are installed properly.\n"
     ]
    }
   ],
   "source": [
    "from keras.models import Sequential\n",
    "from keras.layers import Dense\n"
   ]
  },
  {
   "cell_type": "code",
   "execution_count": 51,
   "metadata": {},
   "outputs": [
    {
     "name": "stderr",
     "output_type": "stream",
     "text": [
      "2023-01-20 16:12:09.969031: W tensorflow/compiler/xla/stream_executor/platform/default/dso_loader.cc:64] Could not load dynamic library 'libcuda.so.1'; dlerror: libcuda.so.1: cannot open shared object file: No such file or directory\n",
      "2023-01-20 16:12:09.969550: W tensorflow/compiler/xla/stream_executor/cuda/cuda_driver.cc:265] failed call to cuInit: UNKNOWN ERROR (303)\n",
      "2023-01-20 16:12:09.969627: I tensorflow/compiler/xla/stream_executor/cuda/cuda_diagnostics.cc:156] kernel driver does not appear to be running on this host (sheikhPC): /proc/driver/nvidia/version does not exist\n",
      "2023-01-20 16:12:09.971353: I tensorflow/core/platform/cpu_feature_guard.cc:193] This TensorFlow binary is optimized with oneAPI Deep Neural Network Library (oneDNN) to use the following CPU instructions in performance-critical operations:  AVX2 FMA\n",
      "To enable them in other operations, rebuild TensorFlow with the appropriate compiler flags.\n"
     ]
    }
   ],
   "source": [
    "# Create the model\n",
    "model = Sequential()\n",
    "model.add(Dense(units=64, activation='relu', input_shape=(X_train.shape[1],)))\n",
    "model.add(Dense(units=32, activation='relu'))\n",
    "model.add(Dense(units=1, activation='sigmoid'))\n"
   ]
  },
  {
   "cell_type": "code",
   "execution_count": 58,
   "metadata": {},
   "outputs": [],
   "source": [
    "# Compile the model\n",
    "model.compile(optimizer='adam', loss='binary_crossentropy',\n",
    "              metrics=['accuracy'])\n"
   ]
  },
  {
   "cell_type": "code",
   "execution_count": 59,
   "metadata": {},
   "outputs": [
    {
     "name": "stdout",
     "output_type": "stream",
     "text": [
      "Epoch 1/10\n",
      "578/578 [==============================] - 3s 4ms/step - loss: 0.6069 - accuracy: 0.6731 - val_loss: 0.5571 - val_accuracy: 0.7075\n",
      "Epoch 2/10\n",
      "578/578 [==============================] - 2s 3ms/step - loss: 0.5585 - accuracy: 0.7137 - val_loss: 0.5377 - val_accuracy: 0.7244\n",
      "Epoch 3/10\n",
      "578/578 [==============================] - 2s 3ms/step - loss: 0.5466 - accuracy: 0.7164 - val_loss: 0.5429 - val_accuracy: 0.7173\n",
      "Epoch 4/10\n",
      "578/578 [==============================] - 2s 3ms/step - loss: 0.5395 - accuracy: 0.7222 - val_loss: 0.5343 - val_accuracy: 0.7391\n",
      "Epoch 5/10\n",
      "578/578 [==============================] - 2s 4ms/step - loss: 0.5387 - accuracy: 0.7273 - val_loss: 0.5400 - val_accuracy: 0.7335\n",
      "Epoch 6/10\n",
      "578/578 [==============================] - 2s 3ms/step - loss: 0.5362 - accuracy: 0.7271 - val_loss: 0.5295 - val_accuracy: 0.7333\n",
      "Epoch 7/10\n",
      "578/578 [==============================] - 2s 3ms/step - loss: 0.5338 - accuracy: 0.7265 - val_loss: 0.5542 - val_accuracy: 0.7168\n",
      "Epoch 8/10\n",
      "578/578 [==============================] - 2s 3ms/step - loss: 0.5347 - accuracy: 0.7271 - val_loss: 0.5337 - val_accuracy: 0.7437\n",
      "Epoch 9/10\n",
      "578/578 [==============================] - 3s 4ms/step - loss: 0.5302 - accuracy: 0.7323 - val_loss: 0.5272 - val_accuracy: 0.7300\n",
      "Epoch 10/10\n",
      "578/578 [==============================] - 2s 4ms/step - loss: 0.5267 - accuracy: 0.7363 - val_loss: 0.5254 - val_accuracy: 0.7432\n"
     ]
    }
   ],
   "source": [
    "# fit the model to the training data\n",
    "history = model.fit(X_train, Y_train, epochs=10,\n",
    "                    batch_size=32, validation_data=(X_test, Y_test))\n"
   ]
  },
  {
   "cell_type": "code",
   "execution_count": 60,
   "metadata": {},
   "outputs": [
    {
     "name": "stdout",
     "output_type": "stream",
     "text": [
      "145/145 [==============================] - 0s 2ms/step - loss: 0.5254 - accuracy: 0.7432\n",
      "Test accuracy: 0.7432344555854797\n"
     ]
    }
   ],
   "source": [
    "# evaluate the model's performance on the test data\n",
    "test_loss, test_acc = model.evaluate(X_test, Y_test)\n",
    "print('Test accuracy:', test_acc)\n"
   ]
  },
  {
   "cell_type": "code",
   "execution_count": 61,
   "metadata": {},
   "outputs": [],
   "source": [
    "import matplotlib.pyplot as plt\n",
    "from sklearn.metrics import confusion_matrix\n",
    "\n",
    "\n",
    "def plot_confusion_matrix_nn(model, X_test, Y_test):\n",
    "    Y_pred = model.predict(X_test)\n",
    "    Y_pred = (Y_pred > 0.5)  # threshold of 0.5 for binary classification\n",
    "    conf_matrix = confusion_matrix(Y_test, Y_pred)\n",
    "\n",
    "    plt.imshow(conf_matrix, cmap=plt.cm.Blues)\n",
    "    plt.title(\"Confusion Matrix\")\n",
    "    plt.xlabel(\"Predicted\")\n",
    "    plt.ylabel(\"Actual\")\n",
    "    plt.xticks([0, 1], [\"Negative\", \"Positive\"])\n",
    "    plt.yticks([0, 1], [\"Negative\", \"Positive\"])\n",
    "    plt.colorbar()\n",
    "    for i in range(conf_matrix.shape[0]):\n",
    "        for j in range(conf_matrix.shape[1]):\n",
    "            plt.text(j, i, conf_matrix[i, j],\n",
    "                     ha=\"center\", va=\"center\", color=\"w\")\n",
    "    plt.show()\n"
   ]
  },
  {
   "cell_type": "code",
   "execution_count": 62,
   "metadata": {},
   "outputs": [
    {
     "name": "stdout",
     "output_type": "stream",
     "text": [
      "145/145 [==============================] - 0s 2ms/step\n"
     ]
    },
    {
     "data": {
      "image/png": "[encoded data removed]",
      "text/plain": [
       "<Figure size 432x288 with 2 Axes>"
      ]
     },
     "metadata": {
      "needs_background": "light"
     },
     "output_type": "display_data"
    }
   ],
   "source": [
    "plot_confusion_matrix_nn(model, X_test, Y_test)\n"
   ]
  },
  {
   "cell_type": "code",
   "execution_count": 63,
   "metadata": {},
   "outputs": [],
   "source": [
    "from sklearn.metrics import accuracy_score, precision_score, recall_score, f1_score\n",
    "\n",
    "\n",
    "def evaluate_model_nn(model, X_test, Y_test):\n",
    "    Y_pred = model.predict(X_test)\n",
    "    Y_pred = (Y_pred > 0.5)  # threshold of 0.5 for binary classification\n",
    "    accuracy = accuracy_score(Y_test, Y_pred)\n",
    "    precision = precision_score(Y_test, Y_pred)\n",
    "    recall = recall_score(Y_test, Y_pred)\n",
    "    f1 = f1_score(Y_test, Y_pred)\n",
    "    print(\"Accuracy: {:.2f}\".format(accuracy))\n",
    "    print(\"Precision: {:.2f}\".format(precision))\n",
    "    print(\"Recall: {:.2f}\".format(recall))\n",
    "    print(\"F1 Score: {:.2f}\".format(f1))\n"
   ]
  },
  {
   "cell_type": "code",
   "execution_count": 64,
   "metadata": {},
   "outputs": [
    {
     "name": "stdout",
     "output_type": "stream",
     "text": [
      "145/145 [==============================] - 0s 2ms/step\n",
      "Accuracy: 0.74\n",
      "Precision: 0.80\n",
      "Recall: 0.60\n",
      "F1 Score: 0.68\n"
     ]
    }
   ],
   "source": [
    "evaluate_model_nn(model, X_test, Y_test)\n"
   ]
  },
  {
   "attachments": {},
   "cell_type": "markdown",
   "metadata": {},
   "source": [
    "#### Gradient Boosting machine :\n",
    " Gradient Boosting is a machine learning technique for regression and classification problems, which produces a prediction model in the form of an ensemble of weak prediction models, typically decision trees."
   ]
  },
  {
   "cell_type": "code",
   "execution_count": 65,
   "metadata": {},
   "outputs": [],
   "source": [
    "from sklearn.preprocessing import OneHotEncoder\n",
    "onehot_encoder = OneHotEncoder(handle_unknown='ignore')\n",
    "X_train_encoded = onehot_encoder.fit_transform(X_train)\n",
    "X_test_encoded = onehot_encoder.transform(X_test)\n"
   ]
  },
  {
   "cell_type": "code",
   "execution_count": 66,
   "metadata": {},
   "outputs": [],
   "source": [
    "from xgboost import XGBClassifier\n",
    "\n",
    "# Create the GBM model\n",
    "gbm = XGBClassifier()\n",
    "\n",
    "# Fit the model to the training data\n",
    "gbm.fit(X_train_encoded, Y_train)\n",
    "\n",
    "# Make predictions on the test data\n",
    "Y_pred = gbm.predict(X_test_encoded)\n"
   ]
  },
  {
   "cell_type": "code",
   "execution_count": 67,
   "metadata": {},
   "outputs": [],
   "source": [
    "from sklearn.metrics import accuracy_score, precision_score, recall_score, f1_score\n",
    "\n",
    "\n",
    "def evaluate_xgboost(model, X_test, Y_test):\n",
    "    Y_pred = model.predict(X_test)\n",
    "    accuracy = accuracy_score(Y_test, Y_pred)\n",
    "    precision = precision_score(Y_test, Y_pred)\n",
    "    recall = recall_score(Y_test, Y_pred)\n",
    "    f1 = f1_score(Y_test, Y_pred)\n",
    "    print(\"Accuracy: {:.2f}\".format(accuracy))\n",
    "    print(\"Precision: {:.2f}\".format(precision))\n",
    "    print(\"Recall: {:.2f}\".format(recall))\n",
    "    print(\"F1 Score: {:.2f}\".format(f1))\n"
   ]
  },
  {
   "cell_type": "code",
   "execution_count": 73,
   "metadata": {},
   "outputs": [
    {
     "data": {
      "image/png": "[encoded data removed]",
      "text/plain": [
       "<Figure size 432x288 with 2 Axes>"
      ]
     },
     "metadata": {
      "needs_background": "light"
     },
     "output_type": "display_data"
    }
   ],
   "source": [
    "plot_confusion_matrix_nn(gbm, X_test_encoded, Y_test)\n"
   ]
  },
  {
   "cell_type": "code",
   "execution_count": 68,
   "metadata": {},
   "outputs": [
    {
     "name": "stdout",
     "output_type": "stream",
     "text": [
      "Accuracy: 0.77\n",
      "Precision: 0.82\n",
      "Recall: 0.65\n",
      "F1 Score: 0.73\n"
     ]
    }
   ],
   "source": [
    "evaluate_xgboost(gbm, X_test_encoded, Y_test)\n"
   ]
  },
  {
   "attachments": {},
   "cell_type": "markdown",
   "metadata": {},
   "source": [
    "##### We wanted to test if tuning the model would give better result but we didnt run this step here because it requires expensive processing power "
   ]
  },
  {
   "cell_type": "code",
   "execution_count": null,
   "metadata": {},
   "outputs": [],
   "source": [
    "from sklearn.model_selection import GridSearchCV\n",
    "\n",
    "# Define the parameter grid\n",
    "param_grid = {\n",
    "    'max_depth': [3, 5, 7],\n",
    "    'learning_rate': [0.1, 0.01, 0.001],\n",
    "    'n_estimators': [50, 100, 200],\n",
    "    'subsample': [0.6, 0.8, 1.0],\n",
    "    'colsample_bytree': [0.6, 0.8, 1.0],\n",
    "    'gamma': [0, 0.1, 0.2]\n",
    "}\n",
    "\n",
    "# Create the GridSearchCV object\n",
    "xgb_grid = GridSearchCV(gbm, param_grid, cv=5)\n",
    "\n",
    "# Fit the GridSearchCV object to the data\n",
    "xgb_grid.fit(X_train_encoded, Y_train)\n",
    "\n",
    "# Print the best parameters and the best score\n",
    "print(\"Best parameters: \", xgb_grid.best_params_)\n",
    "print(\"Best score: \", xgb_grid.best_score_)\n",
    "\n",
    "best_params = xgb_grid.best_params_\n",
    "best_score = xgb_grid.best_score_\n",
    "\n",
    "# Next, re-initialize the model using the best parameters\n",
    "xgb_best = XGBClassifier(**best_params)\n",
    "\n",
    "# Re-train the model on the entire training dataset\n",
    "xgb_best.fit(X_train, Y_train)\n",
    "\n",
    "# Make predictions on the test data\n",
    "Y_pred = xgb_best.predict(X_test)\n"
   ]
  },
  {
   "cell_type": "code",
   "execution_count": null,
   "metadata": {},
   "outputs": [],
   "source": [
    "evaluate_xgboost(xgb_best, X_test_encoded, Y_test)\n"
   ]
  },
  {
   "attachments": {},
   "cell_type": "markdown",
   "metadata": {},
   "source": [
    "#### Support Vector Machine: \n",
    "SVM is a supervised learning algorithm that can be used for classification or regression problems. It works by finding the optimal hyperplane that maximally separates the different classes of the target variable."
   ]
  },
  {
   "cell_type": "code",
   "execution_count": 70,
   "metadata": {},
   "outputs": [],
   "source": [
    "from sklearn.svm import SVC\n",
    "\n",
    "# Initialize the SVM model\n",
    "svm = SVC()\n",
    "\n",
    "# Fit the SVM model to the training data\n",
    "svm.fit(X_train, Y_train)\n",
    "\n",
    "# Make predictions on the test data\n",
    "Y_pred = svm.predict(X_test)\n"
   ]
  },
  {
   "cell_type": "code",
   "execution_count": 71,
   "metadata": {},
   "outputs": [
    {
     "data": {
      "image/png": "[encoded data removed]",
      "text/plain": [
       "<Figure size 288x288 with 2 Axes>"
      ]
     },
     "metadata": {
      "needs_background": "light"
     },
     "output_type": "display_data"
    }
   ],
   "source": [
    "def plot_confusion_matrix(y_true, y_pred):\n",
    "    conf_matrix = confusion_matrix(y_true, y_pred)\n",
    "    plt.figure(figsize=(4, 4))\n",
    "    sns.heatmap(conf_matrix, annot=True, cmap='Blues', fmt='g')\n",
    "    plt.ylabel('True label')\n",
    "    plt.xlabel('Predicted label')\n",
    "\n",
    "\n",
    "plot_confusion_matrix(Y_test, Y_pred)\n"
   ]
  },
  {
   "cell_type": "code",
   "execution_count": 72,
   "metadata": {},
   "outputs": [
    {
     "name": "stdout",
     "output_type": "stream",
     "text": [
      "Accuracy: 0.6823987876163672\n",
      "Precision: 0.7865748709122203\n",
      "Recall: 0.4285044538209095\n",
      "F1 Score: 0.5547799696509863\n"
     ]
    }
   ],
   "source": [
    "acc, prec, rec, f1 = evaluate_model(Y_test, Y_pred)\n",
    "print(\"Accuracy:\", acc)\n",
    "print(\"Precision:\", prec)\n",
    "print(\"Recall:\", rec)\n",
    "print(\"F1 Score:\", f1)\n"
   ]
  },
  {
   "cell_type": "code",
   "execution_count": null,
   "metadata": {},
   "outputs": [],
   "source": [
    "### \n",
    "#TODO : We already tried doing MDLPC using an entropy based approach\n",
    "#TODO : We need to try doing MDLPC using a Gini based approach or Chi-squared MDLPC\n"
   ]
  },
  {
   "cell_type": "code",
   "execution_count": null,
   "metadata": {},
   "outputs": [],
   "source": []
  }
 ],
 "metadata": {
  "kernelspec": {
   "display_name": "Python 3",
   "language": "python",
   "name": "python3"
  },
  "language_info": {
   "codemirror_mode": {
    "name": "ipython",
    "version": 3
   },
   "file_extension": ".py",
   "mimetype": "text/x-python",
   "name": "python",
   "nbconvert_exporter": "python",
   "pygments_lexer": "ipython3",
   "version": "3.10.6"
  },
  "orig_nbformat": 4,
  "vscode": {
   "interpreter": {
    "hash": "916dbcbb3f70747c44a77c7bcd40155683ae19c65e1c03b4aa3499c5328201f1"
   }
  }
 },
 "nbformat": 4,
 "nbformat_minor": 2
}
